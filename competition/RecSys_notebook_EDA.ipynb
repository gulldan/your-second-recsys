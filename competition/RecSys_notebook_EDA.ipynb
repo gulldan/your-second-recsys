{
 "cells": [
  {
   "cell_type": "markdown",
   "metadata": {},
   "source": [
    "# Libs"
   ]
  },
  {
   "cell_type": "code",
   "execution_count": 3,
   "metadata": {},
   "outputs": [
    {
     "name": "stderr",
     "output_type": "stream",
     "text": [
      "/var/folders/m6/zwm77pk94gzgvxhxv086mjychvzkhw/T/ipykernel_72680/2539682605.py:20: DeprecationWarning: Importing display from IPython.core.display is deprecated since IPython 7.14, please import from IPython display\n",
      "  from IPython.core.display import display, HTML, clear_output\n",
      "/var/folders/m6/zwm77pk94gzgvxhxv086mjychvzkhw/T/ipykernel_72680/2539682605.py:20: DeprecationWarning: Importing clear_output from IPython.core.display is deprecated since IPython 7.14, please import from IPython display\n",
      "  from IPython.core.display import display, HTML, clear_output\n"
     ]
    },
    {
     "data": {
      "text/html": [
       "<style>.container { width:80% !important; }</style>"
      ],
      "text/plain": [
       "<IPython.core.display.HTML object>"
      ]
     },
     "metadata": {},
     "output_type": "display_data"
    },
    {
     "data": {
      "text/html": [
       "<style>.prompt { min-width:10ex !important; }</style>"
      ],
      "text/plain": [
       "<IPython.core.display.HTML object>"
      ]
     },
     "metadata": {},
     "output_type": "display_data"
    },
    {
     "data": {
      "text/html": [
       "<style>div#notebook { font-size:12px !important; }</style>"
      ],
      "text/plain": [
       "<IPython.core.display.HTML object>"
      ]
     },
     "metadata": {},
     "output_type": "display_data"
    }
   ],
   "source": [
    "import datetime\n",
    "import numpy as np\n",
    "\n",
    "from itertools import islice, cycle\n",
    "from more_itertools import pairwise\n",
    "\n",
    "import pandas as pd\n",
    "\n",
    "%matplotlib inline\n",
    "import matplotlib as mpl\n",
    "import matplotlib.pyplot as plt\n",
    "mpl.rc('axes', labelsize=14)\n",
    "mpl.rc('xtick', labelsize=12)\n",
    "mpl.rc('ytick', labelsize=12)\n",
    "\n",
    "import seaborn as sns\n",
    "sns.set(style=\"whitegrid\")\n",
    "sns.set(rc={'figure.figsize':(17, 9)})\n",
    "\n",
    "from IPython.core.display import display, HTML, clear_output\n",
    "display(HTML(\"<style>.container { width:80% !important; }</style>\"))\n",
    "display(HTML(\"<style>.prompt { min-width:10ex !important; }</style>\"))\n",
    "display(HTML(\"<style>div#notebook { font-size:12px !important; }</style>\"))"
   ]
  },
  {
   "cell_type": "markdown",
   "metadata": {},
   "source": [
    "# Data"
   ]
  },
  {
   "cell_type": "code",
   "execution_count": 4,
   "metadata": {},
   "outputs": [],
   "source": [
    "users_df = pd.read_csv('users.csv',)\n",
    "items_df = pd.read_csv('items.csv',)\n",
    "interactions_df = pd.read_csv('interactions_df.csv', parse_dates=['last_watch_dt'])"
   ]
  },
  {
   "cell_type": "code",
   "execution_count": 6,
   "metadata": {},
   "outputs": [],
   "source": [
    "submission = pd.read_csv('sample_submission.csv',)"
   ]
  },
  {
   "cell_type": "code",
   "execution_count": 11,
   "metadata": {},
   "outputs": [
    {
     "data": {
      "text/html": [
       "<div>\n",
       "<style scoped>\n",
       "    .dataframe tbody tr th:only-of-type {\n",
       "        vertical-align: middle;\n",
       "    }\n",
       "\n",
       "    .dataframe tbody tr th {\n",
       "        vertical-align: top;\n",
       "    }\n",
       "\n",
       "    .dataframe thead th {\n",
       "        text-align: right;\n",
       "    }\n",
       "</style>\n",
       "<table border=\"1\" class=\"dataframe\">\n",
       "  <thead>\n",
       "    <tr style=\"text-align: right;\">\n",
       "      <th></th>\n",
       "      <th>user_id</th>\n",
       "      <th>age</th>\n",
       "      <th>income</th>\n",
       "      <th>sex</th>\n",
       "      <th>kids_flg</th>\n",
       "    </tr>\n",
       "  </thead>\n",
       "  <tbody>\n",
       "    <tr>\n",
       "      <th>0</th>\n",
       "      <td>973171</td>\n",
       "      <td>age_25_34</td>\n",
       "      <td>income_60_90</td>\n",
       "      <td>М</td>\n",
       "      <td>1</td>\n",
       "    </tr>\n",
       "    <tr>\n",
       "      <th>1</th>\n",
       "      <td>962099</td>\n",
       "      <td>age_18_24</td>\n",
       "      <td>income_20_40</td>\n",
       "      <td>М</td>\n",
       "      <td>0</td>\n",
       "    </tr>\n",
       "    <tr>\n",
       "      <th>2</th>\n",
       "      <td>1047345</td>\n",
       "      <td>age_45_54</td>\n",
       "      <td>income_40_60</td>\n",
       "      <td>Ж</td>\n",
       "      <td>0</td>\n",
       "    </tr>\n",
       "    <tr>\n",
       "      <th>3</th>\n",
       "      <td>721985</td>\n",
       "      <td>age_45_54</td>\n",
       "      <td>income_20_40</td>\n",
       "      <td>Ж</td>\n",
       "      <td>0</td>\n",
       "    </tr>\n",
       "    <tr>\n",
       "      <th>4</th>\n",
       "      <td>704055</td>\n",
       "      <td>age_35_44</td>\n",
       "      <td>income_60_90</td>\n",
       "      <td>Ж</td>\n",
       "      <td>0</td>\n",
       "    </tr>\n",
       "  </tbody>\n",
       "</table>\n",
       "</div>"
      ],
      "text/plain": [
       "   user_id        age        income sex  kids_flg\n",
       "0   973171  age_25_34  income_60_90   М         1\n",
       "1   962099  age_18_24  income_20_40   М         0\n",
       "2  1047345  age_45_54  income_40_60   Ж         0\n",
       "3   721985  age_45_54  income_20_40   Ж         0\n",
       "4   704055  age_35_44  income_60_90   Ж         0"
      ]
     },
     "execution_count": 11,
     "metadata": {},
     "output_type": "execute_result"
    }
   ],
   "source": [
    "users_df.head()"
   ]
  },
  {
   "cell_type": "code",
   "execution_count": 10,
   "metadata": {},
   "outputs": [
    {
     "data": {
      "text/html": [
       "<div>\n",
       "<style scoped>\n",
       "    .dataframe tbody tr th:only-of-type {\n",
       "        vertical-align: middle;\n",
       "    }\n",
       "\n",
       "    .dataframe tbody tr th {\n",
       "        vertical-align: top;\n",
       "    }\n",
       "\n",
       "    .dataframe thead th {\n",
       "        text-align: right;\n",
       "    }\n",
       "</style>\n",
       "<table border=\"1\" class=\"dataframe\">\n",
       "  <thead>\n",
       "    <tr style=\"text-align: right;\">\n",
       "      <th></th>\n",
       "      <th>user_id</th>\n",
       "      <th>item_id</th>\n",
       "    </tr>\n",
       "  </thead>\n",
       "  <tbody>\n",
       "    <tr>\n",
       "      <th>0</th>\n",
       "      <td>3</td>\n",
       "      <td>[9728, 15297, 10440, 14488, 13865, 12192, 341,...</td>\n",
       "    </tr>\n",
       "    <tr>\n",
       "      <th>1</th>\n",
       "      <td>11</td>\n",
       "      <td>[9728, 15297, 10440, 14488, 13865, 12192, 341,...</td>\n",
       "    </tr>\n",
       "    <tr>\n",
       "      <th>2</th>\n",
       "      <td>29</td>\n",
       "      <td>[9728, 15297, 10440, 14488, 13865, 12192, 341,...</td>\n",
       "    </tr>\n",
       "    <tr>\n",
       "      <th>3</th>\n",
       "      <td>30</td>\n",
       "      <td>[9728, 15297, 10440, 14488, 13865, 12192, 341,...</td>\n",
       "    </tr>\n",
       "    <tr>\n",
       "      <th>4</th>\n",
       "      <td>33</td>\n",
       "      <td>[9728, 15297, 10440, 14488, 13865, 12192, 341,...</td>\n",
       "    </tr>\n",
       "  </tbody>\n",
       "</table>\n",
       "</div>"
      ],
      "text/plain": [
       "   user_id                                            item_id\n",
       "0        3  [9728, 15297, 10440, 14488, 13865, 12192, 341,...\n",
       "1       11  [9728, 15297, 10440, 14488, 13865, 12192, 341,...\n",
       "2       29  [9728, 15297, 10440, 14488, 13865, 12192, 341,...\n",
       "3       30  [9728, 15297, 10440, 14488, 13865, 12192, 341,...\n",
       "4       33  [9728, 15297, 10440, 14488, 13865, 12192, 341,..."
      ]
     },
     "execution_count": 10,
     "metadata": {},
     "output_type": "execute_result"
    }
   ],
   "source": [
    "submission.head()"
   ]
  },
  {
   "cell_type": "markdown",
   "metadata": {},
   "source": [
    "# EDA"
   ]
  },
  {
   "cell_type": "markdown",
   "metadata": {
    "heading_collapsed": true
   },
   "source": [
    "## Users"
   ]
  },
  {
   "cell_type": "code",
   "execution_count": 14,
   "metadata": {
    "hidden": true
   },
   "outputs": [
    {
     "data": {
      "text/html": [
       "<div>\n",
       "<style scoped>\n",
       "    .dataframe tbody tr th:only-of-type {\n",
       "        vertical-align: middle;\n",
       "    }\n",
       "\n",
       "    .dataframe tbody tr th {\n",
       "        vertical-align: top;\n",
       "    }\n",
       "\n",
       "    .dataframe thead th {\n",
       "        text-align: right;\n",
       "    }\n",
       "</style>\n",
       "<table border=\"1\" class=\"dataframe\">\n",
       "  <thead>\n",
       "    <tr style=\"text-align: right;\">\n",
       "      <th></th>\n",
       "      <th>user_id</th>\n",
       "      <th>age</th>\n",
       "      <th>income</th>\n",
       "      <th>sex</th>\n",
       "      <th>kids_flg</th>\n",
       "    </tr>\n",
       "  </thead>\n",
       "  <tbody>\n",
       "    <tr>\n",
       "      <th>0</th>\n",
       "      <td>973171</td>\n",
       "      <td>age_25_34</td>\n",
       "      <td>income_60_90</td>\n",
       "      <td>М</td>\n",
       "      <td>1</td>\n",
       "    </tr>\n",
       "    <tr>\n",
       "      <th>1</th>\n",
       "      <td>962099</td>\n",
       "      <td>age_18_24</td>\n",
       "      <td>income_20_40</td>\n",
       "      <td>М</td>\n",
       "      <td>0</td>\n",
       "    </tr>\n",
       "    <tr>\n",
       "      <th>2</th>\n",
       "      <td>1047345</td>\n",
       "      <td>age_45_54</td>\n",
       "      <td>income_40_60</td>\n",
       "      <td>Ж</td>\n",
       "      <td>0</td>\n",
       "    </tr>\n",
       "    <tr>\n",
       "      <th>3</th>\n",
       "      <td>721985</td>\n",
       "      <td>age_45_54</td>\n",
       "      <td>income_20_40</td>\n",
       "      <td>Ж</td>\n",
       "      <td>0</td>\n",
       "    </tr>\n",
       "    <tr>\n",
       "      <th>4</th>\n",
       "      <td>704055</td>\n",
       "      <td>age_35_44</td>\n",
       "      <td>income_60_90</td>\n",
       "      <td>Ж</td>\n",
       "      <td>0</td>\n",
       "    </tr>\n",
       "  </tbody>\n",
       "</table>\n",
       "</div>"
      ],
      "text/plain": [
       "   user_id        age        income sex  kids_flg\n",
       "0   973171  age_25_34  income_60_90   М         1\n",
       "1   962099  age_18_24  income_20_40   М         0\n",
       "2  1047345  age_45_54  income_40_60   Ж         0\n",
       "3   721985  age_45_54  income_20_40   Ж         0\n",
       "4   704055  age_35_44  income_60_90   Ж         0"
      ]
     },
     "execution_count": 14,
     "metadata": {},
     "output_type": "execute_result"
    }
   ],
   "source": [
    "users_df.head()"
   ]
  },
  {
   "cell_type": "code",
   "execution_count": 15,
   "metadata": {
    "hidden": true
   },
   "outputs": [
    {
     "name": "stdout",
     "output_type": "stream",
     "text": [
      "<class 'pandas.core.frame.DataFrame'>\n",
      "RangeIndex: 840197 entries, 0 to 840196\n",
      "Data columns (total 5 columns):\n",
      " #   Column    Non-Null Count   Dtype \n",
      "---  ------    --------------   ----- \n",
      " 0   user_id   840197 non-null  int64 \n",
      " 1   age       826102 non-null  object\n",
      " 2   income    825421 non-null  object\n",
      " 3   sex       826366 non-null  object\n",
      " 4   kids_flg  840197 non-null  int64 \n",
      "dtypes: int64(2), object(3)\n",
      "memory usage: 32.1+ MB\n"
     ]
    },
    {
     "name": "stderr",
     "output_type": "stream",
     "text": [
      "/var/folders/m6/zwm77pk94gzgvxhxv086mjychvzkhw/T/ipykernel_72680/2901919997.py:1: FutureWarning: null_counts is deprecated. Use show_counts instead\n",
      "  users_df.info(verbose=True, null_counts=True)\n"
     ]
    }
   ],
   "source": [
    "users_df.info(verbose=True, null_counts=True)"
   ]
  },
  {
   "cell_type": "code",
   "execution_count": 16,
   "metadata": {
    "hidden": true
   },
   "outputs": [
    {
     "data": {
      "text/plain": [
       "user_id     840197\n",
       "age              6\n",
       "income           6\n",
       "sex              2\n",
       "kids_flg         2\n",
       "dtype: int64"
      ]
     },
     "execution_count": 16,
     "metadata": {},
     "output_type": "execute_result"
    }
   ],
   "source": [
    "users_df.nunique()"
   ]
  },
  {
   "cell_type": "markdown",
   "metadata": {
    "hidden": true
   },
   "source": [
    "### Preprocess"
   ]
  },
  {
   "cell_type": "markdown",
   "metadata": {
    "hidden": true
   },
   "source": [
    "#### Age"
   ]
  },
  {
   "cell_type": "code",
   "execution_count": 17,
   "metadata": {
    "hidden": true
   },
   "outputs": [
    {
     "data": {
      "text/plain": [
       "<AxesSubplot:>"
      ]
     },
     "execution_count": 17,
     "metadata": {},
     "output_type": "execute_result"
    },
    {
     "data": {
      "image/png": "[encoded data removed]",
      "text/plain": [
       "<Figure size 1008x576 with 1 Axes>"
      ]
     },
     "metadata": {},
     "output_type": "display_data"
    }
   ],
   "source": [
    "users_df.age.hist(figsize=(14, 8))"
   ]
  },
  {
   "cell_type": "code",
   "execution_count": 18,
   "metadata": {
    "hidden": true
   },
   "outputs": [],
   "source": [
    "users_df['age'] = users_df['age'].fillna('age_unknown')"
   ]
  },
  {
   "cell_type": "code",
   "execution_count": 19,
   "metadata": {
    "hidden": true
   },
   "outputs": [
    {
     "data": {
      "text/plain": [
       "age_25_34      233926\n",
       "age_35_44      207043\n",
       "age_45_54      135925\n",
       "age_18_24      127672\n",
       "age_55_64       75265\n",
       "age_65_inf      46271\n",
       "age_unknown     14095\n",
       "Name: age, dtype: int64"
      ]
     },
     "execution_count": 19,
     "metadata": {},
     "output_type": "execute_result"
    }
   ],
   "source": [
    "users_df['age'].value_counts()"
   ]
  },
  {
   "cell_type": "code",
   "execution_count": 20,
   "metadata": {
    "hidden": true
   },
   "outputs": [],
   "source": [
    "users_df['age'] = users_df['age'].astype('category')"
   ]
  },
  {
   "cell_type": "markdown",
   "metadata": {
    "hidden": true
   },
   "source": [
    "#### Income"
   ]
  },
  {
   "cell_type": "code",
   "execution_count": 21,
   "metadata": {
    "hidden": true
   },
   "outputs": [
    {
     "data": {
      "text/plain": [
       "<AxesSubplot:>"
      ]
     },
     "execution_count": 21,
     "metadata": {},
     "output_type": "execute_result"
    },
    {
     "data": {
      "image/png": "[encoded data removed]",
      "text/plain": [
       "<Figure size 1008x576 with 1 Axes>"
      ]
     },
     "metadata": {},
     "output_type": "display_data"
    }
   ],
   "source": [
    "users_df.income.hist(figsize=(14, 8))"
   ]
  },
  {
   "cell_type": "code",
   "execution_count": 22,
   "metadata": {
    "hidden": true
   },
   "outputs": [],
   "source": [
    "users_df['income'] = users_df['income'].fillna('income_unknown')"
   ]
  },
  {
   "cell_type": "code",
   "execution_count": 23,
   "metadata": {
    "hidden": true
   },
   "outputs": [
    {
     "data": {
      "text/plain": [
       "income_20_40      471519\n",
       "income_40_60      248330\n",
       "income_60_90       68674\n",
       "income_0_20        21836\n",
       "income_unknown     14776\n",
       "income_90_150      13985\n",
       "income_150_inf      1077\n",
       "Name: income, dtype: int64"
      ]
     },
     "execution_count": 23,
     "metadata": {},
     "output_type": "execute_result"
    }
   ],
   "source": [
    "users_df['income'].value_counts()"
   ]
  },
  {
   "cell_type": "code",
   "execution_count": 24,
   "metadata": {
    "hidden": true
   },
   "outputs": [],
   "source": [
    "users_df['income'] = users_df['income'].astype('category')"
   ]
  },
  {
   "cell_type": "markdown",
   "metadata": {
    "hidden": true
   },
   "source": [
    "#### Sex"
   ]
  },
  {
   "cell_type": "code",
   "execution_count": 25,
   "metadata": {
    "hidden": true
   },
   "outputs": [
    {
     "data": {
      "text/plain": [
       "Ж    425270\n",
       "М    401096\n",
       "Name: sex, dtype: int64"
      ]
     },
     "execution_count": 25,
     "metadata": {},
     "output_type": "execute_result"
    }
   ],
   "source": [
    "users_df['sex'].value_counts()"
   ]
  },
  {
   "cell_type": "code",
   "execution_count": 26,
   "metadata": {
    "hidden": true
   },
   "outputs": [],
   "source": [
    "users_df['sex'] = users_df['sex'].fillna('sex_unknown')"
   ]
  },
  {
   "cell_type": "code",
   "execution_count": 27,
   "metadata": {
    "hidden": true
   },
   "outputs": [],
   "source": [
    "users_df.loc[users_df.sex == 'М', 'sex'] = 'M'\n",
    "users_df.loc[users_df.sex == 'Ж', 'sex'] = 'F'"
   ]
  },
  {
   "cell_type": "code",
   "execution_count": 28,
   "metadata": {
    "hidden": true
   },
   "outputs": [
    {
     "data": {
      "text/plain": [
       "F              425270\n",
       "M              401096\n",
       "sex_unknown     13831\n",
       "Name: sex, dtype: int64"
      ]
     },
     "execution_count": 28,
     "metadata": {},
     "output_type": "execute_result"
    }
   ],
   "source": [
    "users_df['sex'].value_counts()"
   ]
  },
  {
   "cell_type": "code",
   "execution_count": 29,
   "metadata": {
    "hidden": true
   },
   "outputs": [],
   "source": [
    "users_df['sex'] = users_df['sex'].astype('category')"
   ]
  },
  {
   "cell_type": "markdown",
   "metadata": {
    "hidden": true
   },
   "source": [
    "#### kids_flg"
   ]
  },
  {
   "cell_type": "code",
   "execution_count": 30,
   "metadata": {
    "hidden": true
   },
   "outputs": [
    {
     "data": {
      "text/plain": [
       "0    587209\n",
       "1    252988\n",
       "Name: kids_flg, dtype: int64"
      ]
     },
     "execution_count": 30,
     "metadata": {},
     "output_type": "execute_result"
    }
   ],
   "source": [
    "users_df['kids_flg'].value_counts()"
   ]
  },
  {
   "cell_type": "code",
   "execution_count": 31,
   "metadata": {
    "hidden": true
   },
   "outputs": [],
   "source": [
    "users_df.loc[users_df.kids_flg == 0, 'kids_flg'] = False\n",
    "users_df.loc[users_df.kids_flg == 1, 'kids_flg'] = True"
   ]
  },
  {
   "cell_type": "code",
   "execution_count": 32,
   "metadata": {
    "hidden": true
   },
   "outputs": [],
   "source": [
    "users_df['kids_flg'] = users_df['kids_flg'].astype('bool')"
   ]
  },
  {
   "cell_type": "markdown",
   "metadata": {
    "hidden": true
   },
   "source": [
    "#### Duplicates check"
   ]
  },
  {
   "cell_type": "code",
   "execution_count": 33,
   "metadata": {
    "hidden": true
   },
   "outputs": [
    {
     "data": {
      "text/plain": [
       "0"
      ]
     },
     "execution_count": 33,
     "metadata": {},
     "output_type": "execute_result"
    }
   ],
   "source": [
    "users_df.duplicated(subset=['user_id'], keep=False).sum()"
   ]
  },
  {
   "cell_type": "markdown",
   "metadata": {
    "hidden": true
   },
   "source": [
    "### Result"
   ]
  },
  {
   "cell_type": "code",
   "execution_count": 34,
   "metadata": {
    "hidden": true
   },
   "outputs": [
    {
     "name": "stdout",
     "output_type": "stream",
     "text": [
      "<class 'pandas.core.frame.DataFrame'>\n",
      "RangeIndex: 840197 entries, 0 to 840196\n",
      "Data columns (total 5 columns):\n",
      " #   Column    Non-Null Count   Dtype   \n",
      "---  ------    --------------   -----   \n",
      " 0   user_id   840197 non-null  int64   \n",
      " 1   age       840197 non-null  category\n",
      " 2   income    840197 non-null  category\n",
      " 3   sex       840197 non-null  category\n",
      " 4   kids_flg  840197 non-null  bool    \n",
      "dtypes: bool(1), category(3), int64(1)\n",
      "memory usage: 9.6 MB\n"
     ]
    },
    {
     "name": "stderr",
     "output_type": "stream",
     "text": [
      "/var/folders/m6/zwm77pk94gzgvxhxv086mjychvzkhw/T/ipykernel_72680/2901919997.py:1: FutureWarning: null_counts is deprecated. Use show_counts instead\n",
      "  users_df.info(verbose=True, null_counts=True)\n"
     ]
    }
   ],
   "source": [
    "users_df.info(verbose=True, null_counts=True)"
   ]
  },
  {
   "cell_type": "markdown",
   "metadata": {
    "heading_collapsed": true
   },
   "source": [
    "## Items"
   ]
  },
  {
   "cell_type": "code",
   "execution_count": 35,
   "metadata": {
    "hidden": true
   },
   "outputs": [
    {
     "data": {
      "text/html": [
       "<div>\n",
       "<style scoped>\n",
       "    .dataframe tbody tr th:only-of-type {\n",
       "        vertical-align: middle;\n",
       "    }\n",
       "\n",
       "    .dataframe tbody tr th {\n",
       "        vertical-align: top;\n",
       "    }\n",
       "\n",
       "    .dataframe thead th {\n",
       "        text-align: right;\n",
       "    }\n",
       "</style>\n",
       "<table border=\"1\" class=\"dataframe\">\n",
       "  <thead>\n",
       "    <tr style=\"text-align: right;\">\n",
       "      <th></th>\n",
       "      <th>item_id</th>\n",
       "      <th>content_type</th>\n",
       "      <th>title</th>\n",
       "      <th>title_orig</th>\n",
       "      <th>release_year</th>\n",
       "      <th>genres</th>\n",
       "      <th>countries</th>\n",
       "      <th>for_kids</th>\n",
       "      <th>age_rating</th>\n",
       "      <th>studios</th>\n",
       "      <th>directors</th>\n",
       "      <th>actors</th>\n",
       "      <th>description</th>\n",
       "      <th>keywords</th>\n",
       "    </tr>\n",
       "  </thead>\n",
       "  <tbody>\n",
       "    <tr>\n",
       "      <th>0</th>\n",
       "      <td>10711</td>\n",
       "      <td>film</td>\n",
       "      <td>Поговори с ней</td>\n",
       "      <td>Hable con ella</td>\n",
       "      <td>2002.0</td>\n",
       "      <td>драмы, зарубежные, детективы, мелодрамы</td>\n",
       "      <td>Испания</td>\n",
       "      <td>NaN</td>\n",
       "      <td>16.0</td>\n",
       "      <td>NaN</td>\n",
       "      <td>Педро Альмодовар</td>\n",
       "      <td>Адольфо Фернандес, Ана Фернандес, Дарио Гранди...</td>\n",
       "      <td>Мелодрама легендарного Педро Альмодовара «Пого...</td>\n",
       "      <td>Поговори, ней, 2002, Испания, друзья, любовь, ...</td>\n",
       "    </tr>\n",
       "  </tbody>\n",
       "</table>\n",
       "</div>"
      ],
      "text/plain": [
       "   item_id content_type           title      title_orig  release_year  \\\n",
       "0    10711         film  Поговори с ней  Hable con ella        2002.0   \n",
       "\n",
       "                                    genres countries  for_kids  age_rating  \\\n",
       "0  драмы, зарубежные, детективы, мелодрамы   Испания       NaN        16.0   \n",
       "\n",
       "  studios         directors  \\\n",
       "0     NaN  Педро Альмодовар   \n",
       "\n",
       "                                              actors  \\\n",
       "0  Адольфо Фернандес, Ана Фернандес, Дарио Гранди...   \n",
       "\n",
       "                                         description  \\\n",
       "0  Мелодрама легендарного Педро Альмодовара «Пого...   \n",
       "\n",
       "                                            keywords  \n",
       "0  Поговори, ней, 2002, Испания, друзья, любовь, ...  "
      ]
     },
     "execution_count": 35,
     "metadata": {},
     "output_type": "execute_result"
    }
   ],
   "source": [
    "items_df.head(1)"
   ]
  },
  {
   "cell_type": "code",
   "execution_count": 36,
   "metadata": {
    "hidden": true
   },
   "outputs": [
    {
     "data": {
      "text/plain": [
       "item_id         15963\n",
       "content_type        2\n",
       "title           15293\n",
       "title_orig      10575\n",
       "release_year      105\n",
       "genres           2771\n",
       "countries         687\n",
       "for_kids            2\n",
       "age_rating          6\n",
       "studios            38\n",
       "directors        7973\n",
       "actors          12996\n",
       "description     15619\n",
       "keywords        15492\n",
       "dtype: int64"
      ]
     },
     "execution_count": 36,
     "metadata": {},
     "output_type": "execute_result"
    }
   ],
   "source": [
    "items_df.nunique()"
   ]
  },
  {
   "cell_type": "code",
   "execution_count": 37,
   "metadata": {
    "hidden": true
   },
   "outputs": [
    {
     "name": "stdout",
     "output_type": "stream",
     "text": [
      "<class 'pandas.core.frame.DataFrame'>\n",
      "RangeIndex: 15963 entries, 0 to 15962\n",
      "Data columns (total 14 columns):\n",
      " #   Column        Non-Null Count  Dtype  \n",
      "---  ------        --------------  -----  \n",
      " 0   item_id       15963 non-null  int64  \n",
      " 1   content_type  15963 non-null  object \n",
      " 2   title         15963 non-null  object \n",
      " 3   title_orig    11218 non-null  object \n",
      " 4   release_year  15865 non-null  float64\n",
      " 5   genres        15963 non-null  object \n",
      " 6   countries     15926 non-null  object \n",
      " 7   for_kids      566 non-null    float64\n",
      " 8   age_rating    15961 non-null  float64\n",
      " 9   studios       1065 non-null   object \n",
      " 10  directors     14454 non-null  object \n",
      " 11  actors        13344 non-null  object \n",
      " 12  description   15961 non-null  object \n",
      " 13  keywords      15540 non-null  object \n",
      "dtypes: float64(3), int64(1), object(10)\n",
      "memory usage: 1.7+ MB\n"
     ]
    },
    {
     "name": "stderr",
     "output_type": "stream",
     "text": [
      "/var/folders/m6/zwm77pk94gzgvxhxv086mjychvzkhw/T/ipykernel_72680/3045960088.py:1: FutureWarning: null_counts is deprecated. Use show_counts instead\n",
      "  items_df.info(verbose=True, null_counts=True)\n"
     ]
    }
   ],
   "source": [
    "items_df.info(verbose=True, null_counts=True)"
   ]
  },
  {
   "cell_type": "markdown",
   "metadata": {
    "hidden": true
   },
   "source": [
    "### Preprocess"
   ]
  },
  {
   "cell_type": "markdown",
   "metadata": {
    "hidden": true
   },
   "source": [
    "#### content_type"
   ]
  },
  {
   "cell_type": "code",
   "execution_count": 38,
   "metadata": {
    "hidden": true
   },
   "outputs": [
    {
     "data": {
      "text/plain": [
       "film      12002\n",
       "series     3961\n",
       "Name: content_type, dtype: int64"
      ]
     },
     "execution_count": 38,
     "metadata": {},
     "output_type": "execute_result"
    }
   ],
   "source": [
    "items_df.content_type.value_counts()"
   ]
  },
  {
   "cell_type": "code",
   "execution_count": 39,
   "metadata": {
    "hidden": true
   },
   "outputs": [],
   "source": [
    "items_df['content_type'] = items_df['content_type'].astype('category')"
   ]
  },
  {
   "cell_type": "markdown",
   "metadata": {
    "hidden": true
   },
   "source": [
    "#### title"
   ]
  },
  {
   "cell_type": "code",
   "execution_count": 40,
   "metadata": {
    "hidden": true
   },
   "outputs": [
    {
     "data": {
      "text/plain": [
       "0          Поговори с ней\n",
       "1             Голые перцы\n",
       "2        Тактическая сила\n",
       "3                  45 лет\n",
       "4    Все решает мгновение\n",
       "Name: title, dtype: object"
      ]
     },
     "execution_count": 40,
     "metadata": {},
     "output_type": "execute_result"
    }
   ],
   "source": [
    "items_df['title'].head()"
   ]
  },
  {
   "cell_type": "code",
   "execution_count": 41,
   "metadata": {
    "hidden": true,
    "scrolled": true
   },
   "outputs": [
    {
     "data": {
      "text/plain": [
       "1266"
      ]
     },
     "execution_count": 41,
     "metadata": {},
     "output_type": "execute_result"
    }
   ],
   "source": [
    "items_df.duplicated(subset=['title'], keep=False).sum()"
   ]
  },
  {
   "cell_type": "code",
   "execution_count": 42,
   "metadata": {
    "hidden": true
   },
   "outputs": [],
   "source": [
    "items_df['title'] = items_df['title'].str.lower()"
   ]
  },
  {
   "cell_type": "markdown",
   "metadata": {
    "hidden": true
   },
   "source": [
    "#### title_orig"
   ]
  },
  {
   "cell_type": "code",
   "execution_count": 43,
   "metadata": {
    "hidden": true
   },
   "outputs": [
    {
     "data": {
      "text/plain": [
       "0    Hable con ella\n",
       "1      Search Party\n",
       "2    Tactical Force\n",
       "3          45 Years\n",
       "4               NaN\n",
       "Name: title_orig, dtype: object"
      ]
     },
     "execution_count": 43,
     "metadata": {},
     "output_type": "execute_result"
    }
   ],
   "source": [
    "items_df['title_orig'].head()"
   ]
  },
  {
   "cell_type": "code",
   "execution_count": 44,
   "metadata": {
    "hidden": true
   },
   "outputs": [
    {
     "data": {
      "text/plain": [
       "Россия            2899\n",
       "СССР               918\n",
       "Украина            240\n",
       "США                101\n",
       "Великобритания      87\n",
       "Name: countries, dtype: int64"
      ]
     },
     "execution_count": 44,
     "metadata": {},
     "output_type": "execute_result"
    }
   ],
   "source": [
    "items_df[items_df.title_orig.isna()].countries.value_counts().head()"
   ]
  },
  {
   "cell_type": "code",
   "execution_count": 45,
   "metadata": {
    "hidden": true
   },
   "outputs": [],
   "source": [
    "items_df['title_orig'] = items_df['title_orig'].fillna('None') "
   ]
  },
  {
   "cell_type": "code",
   "execution_count": 46,
   "metadata": {
    "hidden": true
   },
   "outputs": [
    {
     "data": {
      "text/plain": [
       "6007"
      ]
     },
     "execution_count": 46,
     "metadata": {},
     "output_type": "execute_result"
    }
   ],
   "source": [
    "items_df.duplicated(subset=['title_orig'], keep=False).sum()"
   ]
  },
  {
   "cell_type": "code",
   "execution_count": 47,
   "metadata": {
    "hidden": true
   },
   "outputs": [
    {
     "data": {
      "text/plain": [
       "380"
      ]
     },
     "execution_count": 47,
     "metadata": {},
     "output_type": "execute_result"
    }
   ],
   "source": [
    "items_df.duplicated(subset=['title', 'title_orig'], keep=False).sum()"
   ]
  },
  {
   "cell_type": "markdown",
   "metadata": {
    "hidden": true
   },
   "source": [
    "#### release_year"
   ]
  },
  {
   "cell_type": "code",
   "execution_count": 48,
   "metadata": {
    "hidden": true
   },
   "outputs": [
    {
     "data": {
      "text/plain": [
       "<AxesSubplot:>"
      ]
     },
     "execution_count": 48,
     "metadata": {},
     "output_type": "execute_result"
    },
    {
     "data": {
      "image/png": "[encoded data removed]",
      "text/plain": [
       "<Figure size 1008x576 with 1 Axes>"
      ]
     },
     "metadata": {},
     "output_type": "display_data"
    }
   ],
   "source": [
    "items_df.release_year.hist(figsize=(14, 8), bins=40)"
   ]
  },
  {
   "cell_type": "code",
   "execution_count": 49,
   "metadata": {
    "hidden": true
   },
   "outputs": [
    {
     "data": {
      "text/html": [
       "<div>\n",
       "<style scoped>\n",
       "    .dataframe tbody tr th:only-of-type {\n",
       "        vertical-align: middle;\n",
       "    }\n",
       "\n",
       "    .dataframe tbody tr th {\n",
       "        vertical-align: top;\n",
       "    }\n",
       "\n",
       "    .dataframe thead th {\n",
       "        text-align: right;\n",
       "    }\n",
       "</style>\n",
       "<table border=\"1\" class=\"dataframe\">\n",
       "  <thead>\n",
       "    <tr style=\"text-align: right;\">\n",
       "      <th></th>\n",
       "      <th>item_id</th>\n",
       "      <th>content_type</th>\n",
       "      <th>title</th>\n",
       "      <th>title_orig</th>\n",
       "      <th>release_year</th>\n",
       "      <th>genres</th>\n",
       "      <th>countries</th>\n",
       "      <th>for_kids</th>\n",
       "      <th>age_rating</th>\n",
       "      <th>studios</th>\n",
       "      <th>directors</th>\n",
       "      <th>actors</th>\n",
       "      <th>description</th>\n",
       "      <th>keywords</th>\n",
       "    </tr>\n",
       "  </thead>\n",
       "  <tbody>\n",
       "    <tr>\n",
       "      <th>89</th>\n",
       "      <td>10950</td>\n",
       "      <td>series</td>\n",
       "      <td>начни дома</td>\n",
       "      <td>None</td>\n",
       "      <td>NaN</td>\n",
       "      <td>фитнес</td>\n",
       "      <td>Россия</td>\n",
       "      <td>NaN</td>\n",
       "      <td>6.0</td>\n",
       "      <td>NaN</td>\n",
       "      <td>NaN</td>\n",
       "      <td>NaN</td>\n",
       "      <td>Приведи себя в хорошую форму дома с минимальны...</td>\n",
       "      <td>Начни, дома, Россия, спорт-фитнес, спорт-трене...</td>\n",
       "    </tr>\n",
       "    <tr>\n",
       "      <th>294</th>\n",
       "      <td>3901</td>\n",
       "      <td>series</td>\n",
       "      <td>красота лица</td>\n",
       "      <td>None</td>\n",
       "      <td>NaN</td>\n",
       "      <td>фитнес</td>\n",
       "      <td>Россия</td>\n",
       "      <td>NaN</td>\n",
       "      <td>0.0</td>\n",
       "      <td>NaN</td>\n",
       "      <td>NaN</td>\n",
       "      <td>NaN</td>\n",
       "      <td>Motify научит вас простым, но очень эффективны...</td>\n",
       "      <td>Красота, лица, 2020, Россия, спорт-фитнес, спо...</td>\n",
       "    </tr>\n",
       "    <tr>\n",
       "      <th>374</th>\n",
       "      <td>10656</td>\n",
       "      <td>series</td>\n",
       "      <td>медитации для жизни</td>\n",
       "      <td>None</td>\n",
       "      <td>NaN</td>\n",
       "      <td>фитнес</td>\n",
       "      <td>NaN</td>\n",
       "      <td>NaN</td>\n",
       "      <td>6.0</td>\n",
       "      <td>NaN</td>\n",
       "      <td>NaN</td>\n",
       "      <td>NaN</td>\n",
       "      <td>В этой программе собраны 3 базовых урока, на к...</td>\n",
       "      <td>Медитации, для, жизни, спорт-фитнес, спорт-тре...</td>\n",
       "    </tr>\n",
       "    <tr>\n",
       "      <th>375</th>\n",
       "      <td>11526</td>\n",
       "      <td>series</td>\n",
       "      <td>психология питания</td>\n",
       "      <td>None</td>\n",
       "      <td>NaN</td>\n",
       "      <td>фитнес, спорт</td>\n",
       "      <td>NaN</td>\n",
       "      <td>NaN</td>\n",
       "      <td>6.0</td>\n",
       "      <td>NaN</td>\n",
       "      <td>NaN</td>\n",
       "      <td>NaN</td>\n",
       "      <td>В программе от Motify ты узнаешь о психологиче...</td>\n",
       "      <td>Психология, питания</td>\n",
       "    </tr>\n",
       "    <tr>\n",
       "      <th>572</th>\n",
       "      <td>11532</td>\n",
       "      <td>series</td>\n",
       "      <td>йога старт</td>\n",
       "      <td>None</td>\n",
       "      <td>NaN</td>\n",
       "      <td>фитнес</td>\n",
       "      <td>Россия</td>\n",
       "      <td>NaN</td>\n",
       "      <td>6.0</td>\n",
       "      <td>NaN</td>\n",
       "      <td>NaN</td>\n",
       "      <td>NaN</td>\n",
       "      <td>Программа от Motify подойдет для любого уровня...</td>\n",
       "      <td>Йога, 2020, Россия, спорт-фитнес, спорт-тренер...</td>\n",
       "    </tr>\n",
       "  </tbody>\n",
       "</table>\n",
       "</div>"
      ],
      "text/plain": [
       "     item_id content_type                title title_orig  release_year  \\\n",
       "89     10950       series           начни дома       None           NaN   \n",
       "294     3901       series         красота лица       None           NaN   \n",
       "374    10656       series  медитации для жизни       None           NaN   \n",
       "375    11526       series   психология питания       None           NaN   \n",
       "572    11532       series           йога старт       None           NaN   \n",
       "\n",
       "            genres countries  for_kids  age_rating studios directors actors  \\\n",
       "89          фитнес    Россия       NaN         6.0     NaN       NaN    NaN   \n",
       "294         фитнес    Россия       NaN         0.0     NaN       NaN    NaN   \n",
       "374         фитнес       NaN       NaN         6.0     NaN       NaN    NaN   \n",
       "375  фитнес, спорт       NaN       NaN         6.0     NaN       NaN    NaN   \n",
       "572         фитнес    Россия       NaN         6.0     NaN       NaN    NaN   \n",
       "\n",
       "                                           description  \\\n",
       "89   Приведи себя в хорошую форму дома с минимальны...   \n",
       "294  Motify научит вас простым, но очень эффективны...   \n",
       "374  В этой программе собраны 3 базовых урока, на к...   \n",
       "375  В программе от Motify ты узнаешь о психологиче...   \n",
       "572  Программа от Motify подойдет для любого уровня...   \n",
       "\n",
       "                                              keywords  \n",
       "89   Начни, дома, Россия, спорт-фитнес, спорт-трене...  \n",
       "294  Красота, лица, 2020, Россия, спорт-фитнес, спо...  \n",
       "374  Медитации, для, жизни, спорт-фитнес, спорт-тре...  \n",
       "375                                Психология, питания  \n",
       "572  Йога, 2020, Россия, спорт-фитнес, спорт-тренер...  "
      ]
     },
     "execution_count": 49,
     "metadata": {},
     "output_type": "execute_result"
    }
   ],
   "source": [
    "items_df[items_df['release_year'].isna()].head()"
   ]
  },
  {
   "cell_type": "code",
   "execution_count": 50,
   "metadata": {
    "hidden": true
   },
   "outputs": [
    {
     "data": {
      "text/plain": [
       "age_rating  genres                                                 countries       \n",
       "6.0         фитнес                                                 Россия              54\n",
       "0.0         футбол                                                 Россия              22\n",
       "            фитнес                                                 Россия               5\n",
       "            зарубежные, детские песни, развитие, для детей         Республика Корея     1\n",
       "            зарубежные, для детей, западные мультфильмы, развитие  Республика Корея     1\n",
       "6.0         фитнес                                                 Великобритания       1\n",
       "dtype: int64"
      ]
     },
     "execution_count": 50,
     "metadata": {},
     "output_type": "execute_result"
    }
   ],
   "source": [
    "items_df[items_df['release_year'].isna()][['age_rating', 'genres', 'countries']].value_counts()"
   ]
  },
  {
   "cell_type": "markdown",
   "metadata": {
    "hidden": true
   },
   "source": [
    "Год можно, например, преобразовать к категории следующим способом, если это необходимо"
   ]
  },
  {
   "cell_type": "code",
   "execution_count": 51,
   "metadata": {
    "hidden": true
   },
   "outputs": [],
   "source": [
    "items_df.loc[items_df['release_year'].isna(), 'release_year'] = 2020."
   ]
  },
  {
   "cell_type": "code",
   "execution_count": 52,
   "metadata": {
    "hidden": true
   },
   "outputs": [],
   "source": [
    "items_df.loc[items_df['release_year'] < 1920, 'release_year_cat'] = 'inf_1920'\n",
    "items_df.loc[items_df['release_year'] >= 2020, 'release_year_cat'] = '2020_inf'"
   ]
  },
  {
   "cell_type": "code",
   "execution_count": 53,
   "metadata": {
    "hidden": true
   },
   "outputs": [],
   "source": [
    "for i in range (1920, 2020, 10):\n",
    "    items_df.loc[(items_df['release_year'] >= i) & (items_df['release_year'] < i+10), 'release_year_cat'] = f'{i}-{i+10}'"
   ]
  },
  {
   "cell_type": "code",
   "execution_count": 54,
   "metadata": {
    "hidden": true
   },
   "outputs": [
    {
     "data": {
      "text/plain": [
       "2010-2020    8788\n",
       "2020_inf     2276\n",
       "2000-2010    2168\n",
       "1980-1990     745\n",
       "1990-2000     636\n",
       "1970-1980     553\n",
       "1960-1970     342\n",
       "1950-1960     199\n",
       "1940-1950     117\n",
       "1930-1940     104\n",
       "1920-1930      24\n",
       "inf_1920       11\n",
       "Name: release_year_cat, dtype: int64"
      ]
     },
     "execution_count": 54,
     "metadata": {},
     "output_type": "execute_result"
    }
   ],
   "source": [
    "items_df.release_year_cat.value_counts()"
   ]
  },
  {
   "cell_type": "code",
   "execution_count": 55,
   "metadata": {
    "hidden": true
   },
   "outputs": [],
   "source": [
    "items_df = items_df.drop(columns=['release_year'])\n",
    "items_df['release_year_cat'] = items_df['release_year_cat'].astype('category')"
   ]
  },
  {
   "cell_type": "markdown",
   "metadata": {
    "hidden": true
   },
   "source": [
    "#### genres"
   ]
  },
  {
   "cell_type": "code",
   "execution_count": 56,
   "metadata": {
    "hidden": true,
    "scrolled": true
   },
   "outputs": [
    {
     "data": {
      "text/plain": [
       "документальное                                                             816\n",
       "драмы                                                                      719\n",
       "комедии                                                                    564\n",
       "для взрослых                                                               482\n",
       "русские, мелодрамы                                                         416\n",
       "                                                                          ... \n",
       "драмы, зарубежные, спорт, семейное, комедии                                  1\n",
       "музыкальные, драмы, зарубежные, семейное, комедии                            1\n",
       "приключения, полнометражные, зарубежные, семейное, западные мультфильмы      1\n",
       "детективы, приключения, зарубежные, триллеры, ужасы                          1\n",
       "фэнтези, семейное, криминал, комедии                                         1\n",
       "Name: genres, Length: 2771, dtype: int64"
      ]
     },
     "execution_count": 56,
     "metadata": {},
     "output_type": "execute_result"
    }
   ],
   "source": [
    "items_df.genres.value_counts()"
   ]
  },
  {
   "cell_type": "code",
   "execution_count": 57,
   "metadata": {
    "hidden": true
   },
   "outputs": [],
   "source": [
    "items_df['genres'] = items_df['genres'].astype('category')"
   ]
  },
  {
   "cell_type": "markdown",
   "metadata": {
    "hidden": true
   },
   "source": [
    "#### countries"
   ]
  },
  {
   "cell_type": "code",
   "execution_count": 58,
   "metadata": {
    "hidden": true,
    "scrolled": true
   },
   "outputs": [
    {
     "data": {
      "text/plain": [
       "Россия                                                                  4237\n",
       "США                                                                     4090\n",
       "СССР                                                                    1401\n",
       "Франция                                                                 1158\n",
       "Великобритания                                                           718\n",
       "                                                                        ... \n",
       "Франция, Китай                                                             1\n",
       "Мальта                                                                     1\n",
       "Великобритания, Ирландия, Канада, США, Индия                               1\n",
       "Швеция, Германия, Норвегия, Дания, Исландия, Бельгия, Великобритания       1\n",
       "Финляндия, Германия                                                        1\n",
       "Name: countries, Length: 687, dtype: int64"
      ]
     },
     "execution_count": 58,
     "metadata": {},
     "output_type": "execute_result"
    }
   ],
   "source": [
    "items_df.countries.value_counts()"
   ]
  },
  {
   "cell_type": "code",
   "execution_count": 59,
   "metadata": {
    "hidden": true
   },
   "outputs": [
    {
     "data": {
      "text/plain": [
       "(37, 14)"
      ]
     },
     "execution_count": 59,
     "metadata": {},
     "output_type": "execute_result"
    }
   ],
   "source": [
    "items_df[items_df.countries.isna()].shape"
   ]
  },
  {
   "cell_type": "code",
   "execution_count": 60,
   "metadata": {
    "hidden": true
   },
   "outputs": [
    {
     "data": {
      "text/html": [
       "<div>\n",
       "<style scoped>\n",
       "    .dataframe tbody tr th:only-of-type {\n",
       "        vertical-align: middle;\n",
       "    }\n",
       "\n",
       "    .dataframe tbody tr th {\n",
       "        vertical-align: top;\n",
       "    }\n",
       "\n",
       "    .dataframe thead th {\n",
       "        text-align: right;\n",
       "    }\n",
       "</style>\n",
       "<table border=\"1\" class=\"dataframe\">\n",
       "  <thead>\n",
       "    <tr style=\"text-align: right;\">\n",
       "      <th></th>\n",
       "      <th>item_id</th>\n",
       "      <th>content_type</th>\n",
       "      <th>title</th>\n",
       "      <th>title_orig</th>\n",
       "      <th>genres</th>\n",
       "      <th>countries</th>\n",
       "      <th>for_kids</th>\n",
       "      <th>age_rating</th>\n",
       "      <th>studios</th>\n",
       "      <th>directors</th>\n",
       "      <th>actors</th>\n",
       "      <th>description</th>\n",
       "      <th>keywords</th>\n",
       "      <th>release_year_cat</th>\n",
       "    </tr>\n",
       "  </thead>\n",
       "  <tbody>\n",
       "    <tr>\n",
       "      <th>374</th>\n",
       "      <td>10656</td>\n",
       "      <td>series</td>\n",
       "      <td>медитации для жизни</td>\n",
       "      <td>None</td>\n",
       "      <td>фитнес</td>\n",
       "      <td>NaN</td>\n",
       "      <td>NaN</td>\n",
       "      <td>6.0</td>\n",
       "      <td>NaN</td>\n",
       "      <td>NaN</td>\n",
       "      <td>NaN</td>\n",
       "      <td>В этой программе собраны 3 базовых урока, на к...</td>\n",
       "      <td>Медитации, для, жизни, спорт-фитнес, спорт-тре...</td>\n",
       "      <td>2020_inf</td>\n",
       "    </tr>\n",
       "    <tr>\n",
       "      <th>375</th>\n",
       "      <td>11526</td>\n",
       "      <td>series</td>\n",
       "      <td>психология питания</td>\n",
       "      <td>None</td>\n",
       "      <td>фитнес, спорт</td>\n",
       "      <td>NaN</td>\n",
       "      <td>NaN</td>\n",
       "      <td>6.0</td>\n",
       "      <td>NaN</td>\n",
       "      <td>NaN</td>\n",
       "      <td>NaN</td>\n",
       "      <td>В программе от Motify ты узнаешь о психологиче...</td>\n",
       "      <td>Психология, питания</td>\n",
       "      <td>2020_inf</td>\n",
       "    </tr>\n",
       "    <tr>\n",
       "      <th>573</th>\n",
       "      <td>63</td>\n",
       "      <td>series</td>\n",
       "      <td>пробуди силу духа</td>\n",
       "      <td>None</td>\n",
       "      <td>фитнес, спорт</td>\n",
       "      <td>NaN</td>\n",
       "      <td>NaN</td>\n",
       "      <td>6.0</td>\n",
       "      <td>NaN</td>\n",
       "      <td>NaN</td>\n",
       "      <td>NaN</td>\n",
       "      <td>Три коротких и энергичных класса Кундалини йог...</td>\n",
       "      <td>Пробуди, силу, Духа, 2021, спорт-фитнес, спорт...</td>\n",
       "      <td>2020_inf</td>\n",
       "    </tr>\n",
       "    <tr>\n",
       "      <th>750</th>\n",
       "      <td>11551</td>\n",
       "      <td>series</td>\n",
       "      <td>растяжка для кaждого</td>\n",
       "      <td>None</td>\n",
       "      <td>фитнес, спорт</td>\n",
       "      <td>NaN</td>\n",
       "      <td>NaN</td>\n",
       "      <td>6.0</td>\n",
       "      <td>NaN</td>\n",
       "      <td>NaN</td>\n",
       "      <td>NaN</td>\n",
       "      <td>Программа от Motify поможет вам почувствовать ...</td>\n",
       "      <td>Растяжка, для, кaждого</td>\n",
       "      <td>2020_inf</td>\n",
       "    </tr>\n",
       "    <tr>\n",
       "      <th>1960</th>\n",
       "      <td>16014</td>\n",
       "      <td>series</td>\n",
       "      <td>работа с телом для молодости лица</td>\n",
       "      <td>None</td>\n",
       "      <td>фитнес, спорт</td>\n",
       "      <td>NaN</td>\n",
       "      <td>NaN</td>\n",
       "      <td>6.0</td>\n",
       "      <td>NaN</td>\n",
       "      <td>NaN</td>\n",
       "      <td>NaN</td>\n",
       "      <td>Программа от Motify направлена на работу с тел...</td>\n",
       "      <td>Работа, телом, для, молодости, лица</td>\n",
       "      <td>2020_inf</td>\n",
       "    </tr>\n",
       "  </tbody>\n",
       "</table>\n",
       "</div>"
      ],
      "text/plain": [
       "      item_id content_type                              title title_orig  \\\n",
       "374     10656       series                медитации для жизни       None   \n",
       "375     11526       series                 психология питания       None   \n",
       "573        63       series                  пробуди силу духа       None   \n",
       "750     11551       series               растяжка для кaждого       None   \n",
       "1960    16014       series  работа с телом для молодости лица       None   \n",
       "\n",
       "             genres countries  for_kids  age_rating studios directors actors  \\\n",
       "374          фитнес       NaN       NaN         6.0     NaN       NaN    NaN   \n",
       "375   фитнес, спорт       NaN       NaN         6.0     NaN       NaN    NaN   \n",
       "573   фитнес, спорт       NaN       NaN         6.0     NaN       NaN    NaN   \n",
       "750   фитнес, спорт       NaN       NaN         6.0     NaN       NaN    NaN   \n",
       "1960  фитнес, спорт       NaN       NaN         6.0     NaN       NaN    NaN   \n",
       "\n",
       "                                            description  \\\n",
       "374   В этой программе собраны 3 базовых урока, на к...   \n",
       "375   В программе от Motify ты узнаешь о психологиче...   \n",
       "573   Три коротких и энергичных класса Кундалини йог...   \n",
       "750   Программа от Motify поможет вам почувствовать ...   \n",
       "1960  Программа от Motify направлена на работу с тел...   \n",
       "\n",
       "                                               keywords release_year_cat  \n",
       "374   Медитации, для, жизни, спорт-фитнес, спорт-тре...         2020_inf  \n",
       "375                                 Психология, питания         2020_inf  \n",
       "573   Пробуди, силу, Духа, 2021, спорт-фитнес, спорт...         2020_inf  \n",
       "750                              Растяжка, для, кaждого         2020_inf  \n",
       "1960                Работа, телом, для, молодости, лица         2020_inf  "
      ]
     },
     "execution_count": 60,
     "metadata": {},
     "output_type": "execute_result"
    }
   ],
   "source": [
    "items_df[items_df.countries.isna()].head()"
   ]
  },
  {
   "cell_type": "code",
   "execution_count": 61,
   "metadata": {
    "hidden": true
   },
   "outputs": [],
   "source": [
    "items_df.loc[items_df.countries.isna(), 'countries'] = 'Россия'"
   ]
  },
  {
   "cell_type": "code",
   "execution_count": 62,
   "metadata": {
    "hidden": true
   },
   "outputs": [],
   "source": [
    "items_df['countries'] = items_df['countries'].str.lower()\n",
    "items_df['countries'] = items_df['countries'].apply(lambda x: ', '.join(sorted(list(set(x.split(', '))))))"
   ]
  },
  {
   "cell_type": "code",
   "execution_count": 63,
   "metadata": {
    "hidden": true,
    "scrolled": true
   },
   "outputs": [
    {
     "data": {
      "text/plain": [
       "россия                 4274\n",
       "сша                    4090\n",
       "ссср                   1401\n",
       "франция                1158\n",
       "великобритания          718\n",
       "украина                 340\n",
       "италия                  256\n",
       "канада                  233\n",
       "республика корея        230\n",
       "великобритания, сша     193\n",
       "Name: countries, dtype: int64"
      ]
     },
     "execution_count": 63,
     "metadata": {},
     "output_type": "execute_result"
    }
   ],
   "source": [
    "items_df.countries.value_counts().head(10)"
   ]
  },
  {
   "cell_type": "code",
   "execution_count": 64,
   "metadata": {
    "hidden": true
   },
   "outputs": [],
   "source": [
    "items_df['countries'] = items_df['countries'].astype('category')"
   ]
  },
  {
   "cell_type": "markdown",
   "metadata": {
    "hidden": true
   },
   "source": [
    "#### for_kids"
   ]
  },
  {
   "cell_type": "code",
   "execution_count": 65,
   "metadata": {
    "hidden": true
   },
   "outputs": [
    {
     "data": {
      "text/plain": [
       "0.0    452\n",
       "1.0    114\n",
       "Name: for_kids, dtype: int64"
      ]
     },
     "execution_count": 65,
     "metadata": {},
     "output_type": "execute_result"
    }
   ],
   "source": [
    "items_df['for_kids'].value_counts()"
   ]
  },
  {
   "cell_type": "code",
   "execution_count": 66,
   "metadata": {
    "hidden": true
   },
   "outputs": [],
   "source": [
    "items_df['for_kids'] = items_df['for_kids'].fillna(0)"
   ]
  },
  {
   "cell_type": "code",
   "execution_count": 67,
   "metadata": {
    "hidden": true
   },
   "outputs": [],
   "source": [
    "items_df.loc[items_df.for_kids == 0, 'for_kids'] = False\n",
    "items_df.loc[items_df.for_kids == 1, 'for_kids'] = True\n",
    "items_df['for_kids'] = items_df['for_kids'].astype('bool')"
   ]
  },
  {
   "cell_type": "markdown",
   "metadata": {
    "hidden": true
   },
   "source": [
    "#### age_rating"
   ]
  },
  {
   "cell_type": "code",
   "execution_count": 68,
   "metadata": {
    "hidden": true
   },
   "outputs": [
    {
     "data": {
      "text/plain": [
       "16.0    5729\n",
       "12.0    4147\n",
       "18.0    2547\n",
       "6.0     1538\n",
       "0.0     1518\n",
       "21.0     482\n",
       "Name: age_rating, dtype: int64"
      ]
     },
     "execution_count": 68,
     "metadata": {},
     "output_type": "execute_result"
    }
   ],
   "source": [
    "items_df.age_rating.value_counts()"
   ]
  },
  {
   "cell_type": "code",
   "execution_count": 69,
   "metadata": {
    "hidden": true,
    "scrolled": true
   },
   "outputs": [
    {
     "data": {
      "text/html": [
       "<div>\n",
       "<style scoped>\n",
       "    .dataframe tbody tr th:only-of-type {\n",
       "        vertical-align: middle;\n",
       "    }\n",
       "\n",
       "    .dataframe tbody tr th {\n",
       "        vertical-align: top;\n",
       "    }\n",
       "\n",
       "    .dataframe thead th {\n",
       "        text-align: right;\n",
       "    }\n",
       "</style>\n",
       "<table border=\"1\" class=\"dataframe\">\n",
       "  <thead>\n",
       "    <tr style=\"text-align: right;\">\n",
       "      <th></th>\n",
       "      <th>item_id</th>\n",
       "      <th>content_type</th>\n",
       "      <th>title</th>\n",
       "      <th>title_orig</th>\n",
       "      <th>genres</th>\n",
       "      <th>countries</th>\n",
       "      <th>for_kids</th>\n",
       "      <th>age_rating</th>\n",
       "      <th>studios</th>\n",
       "      <th>directors</th>\n",
       "      <th>actors</th>\n",
       "      <th>description</th>\n",
       "      <th>keywords</th>\n",
       "      <th>release_year_cat</th>\n",
       "    </tr>\n",
       "  </thead>\n",
       "  <tbody>\n",
       "    <tr>\n",
       "      <th>8297</th>\n",
       "      <td>6316</td>\n",
       "      <td>series</td>\n",
       "      <td>машины-помощники</td>\n",
       "      <td>None</td>\n",
       "      <td>русские, для детей, сериалы, хочу всё знать, р...</td>\n",
       "      <td>россия</td>\n",
       "      <td>False</td>\n",
       "      <td>NaN</td>\n",
       "      <td>NaN</td>\n",
       "      <td>NaN</td>\n",
       "      <td>NaN</td>\n",
       "      <td>Маленькие мальчики всего мира любят играть в м...</td>\n",
       "      <td>Машины-помощники, 2017, Россия, работа, преодо...</td>\n",
       "      <td>2010-2020</td>\n",
       "    </tr>\n",
       "    <tr>\n",
       "      <th>12352</th>\n",
       "      <td>14409</td>\n",
       "      <td>series</td>\n",
       "      <td>бибабу</td>\n",
       "      <td>None</td>\n",
       "      <td>русские, сериалы, для детей, хочу всё знать, р...</td>\n",
       "      <td>россия</td>\n",
       "      <td>False</td>\n",
       "      <td>NaN</td>\n",
       "      <td>NaN</td>\n",
       "      <td>NaN</td>\n",
       "      <td>NaN</td>\n",
       "      <td>В сказочное подводное царство приглашают мален...</td>\n",
       "      <td>друзья, магия и волшебство, рыбы, моря и океан...</td>\n",
       "      <td>2010-2020</td>\n",
       "    </tr>\n",
       "  </tbody>\n",
       "</table>\n",
       "</div>"
      ],
      "text/plain": [
       "       item_id content_type             title title_orig  \\\n",
       "8297      6316       series  машины-помощники       None   \n",
       "12352    14409       series            бибабу       None   \n",
       "\n",
       "                                                  genres countries  for_kids  \\\n",
       "8297   русские, для детей, сериалы, хочу всё знать, р...    россия     False   \n",
       "12352  русские, сериалы, для детей, хочу всё знать, р...    россия     False   \n",
       "\n",
       "       age_rating studios directors actors  \\\n",
       "8297          NaN     NaN       NaN    NaN   \n",
       "12352         NaN     NaN       NaN    NaN   \n",
       "\n",
       "                                             description  \\\n",
       "8297   Маленькие мальчики всего мира любят играть в м...   \n",
       "12352  В сказочное подводное царство приглашают мален...   \n",
       "\n",
       "                                                keywords release_year_cat  \n",
       "8297   Машины-помощники, 2017, Россия, работа, преодо...        2010-2020  \n",
       "12352  друзья, магия и волшебство, рыбы, моря и океан...        2010-2020  "
      ]
     },
     "execution_count": 69,
     "metadata": {},
     "output_type": "execute_result"
    }
   ],
   "source": [
    "items_df[items_df.age_rating.isna()]"
   ]
  },
  {
   "cell_type": "code",
   "execution_count": 70,
   "metadata": {
    "hidden": true
   },
   "outputs": [],
   "source": [
    "items_df.loc[items_df.age_rating.isna(), 'age_rating'] = 0"
   ]
  },
  {
   "cell_type": "code",
   "execution_count": 71,
   "metadata": {
    "hidden": true
   },
   "outputs": [],
   "source": [
    "items_df['age_rating'] = items_df['age_rating'].astype('category')"
   ]
  },
  {
   "cell_type": "markdown",
   "metadata": {
    "hidden": true
   },
   "source": [
    "#### studios"
   ]
  },
  {
   "cell_type": "code",
   "execution_count": 72,
   "metadata": {
    "hidden": true
   },
   "outputs": [],
   "source": [
    "items_df['studios'] = items_df['studios'].fillna('Unknown')"
   ]
  },
  {
   "cell_type": "code",
   "execution_count": 73,
   "metadata": {
    "hidden": true
   },
   "outputs": [],
   "source": [
    "items_df['studios'] = items_df['studios'].str.lower()\n",
    "items_df['studios'] = items_df['studios'].apply(lambda x: ', '.join(sorted(list(set(x.split(', '))))))"
   ]
  },
  {
   "cell_type": "code",
   "execution_count": 74,
   "metadata": {
    "hidden": true
   },
   "outputs": [],
   "source": [
    "items_df['studios'] = items_df['studios'].astype('category')"
   ]
  },
  {
   "cell_type": "markdown",
   "metadata": {
    "hidden": true
   },
   "source": [
    "#### directors"
   ]
  },
  {
   "cell_type": "code",
   "execution_count": 75,
   "metadata": {
    "hidden": true
   },
   "outputs": [],
   "source": [
    "items_df['directors'] = items_df['directors'].fillna('Unknown')"
   ]
  },
  {
   "cell_type": "code",
   "execution_count": 76,
   "metadata": {
    "hidden": true
   },
   "outputs": [],
   "source": [
    "items_df['directors'] = items_df['directors'].str.lower()"
   ]
  },
  {
   "cell_type": "code",
   "execution_count": 77,
   "metadata": {
    "hidden": true
   },
   "outputs": [],
   "source": [
    "items_df['directors'] = items_df['directors'].astype('category')"
   ]
  },
  {
   "cell_type": "markdown",
   "metadata": {
    "hidden": true
   },
   "source": [
    "#### actors"
   ]
  },
  {
   "cell_type": "code",
   "execution_count": 78,
   "metadata": {
    "hidden": true
   },
   "outputs": [],
   "source": [
    "items_df['actors'] = items_df['actors'].fillna('Unknown')"
   ]
  },
  {
   "cell_type": "code",
   "execution_count": 79,
   "metadata": {
    "hidden": true
   },
   "outputs": [],
   "source": [
    "items_df['actors'] = items_df['actors'].astype('category')"
   ]
  },
  {
   "cell_type": "markdown",
   "metadata": {
    "hidden": true
   },
   "source": [
    "#### keywords"
   ]
  },
  {
   "cell_type": "code",
   "execution_count": 80,
   "metadata": {
    "hidden": true
   },
   "outputs": [
    {
     "data": {
      "text/plain": [
       "0    Поговори, ней, 2002, Испания, друзья, любовь, ...\n",
       "1    Голые, перцы, 2014, США, друзья, свадьбы, прео...\n",
       "2    Тактическая, сила, 2011, Канада, бандиты, ганг...\n",
       "3    45, лет, 2015, Великобритания, брак, жизнь, лю...\n",
       "4    Все, решает, мгновение, 1978, СССР, сильные, ж...\n",
       "Name: keywords, dtype: object"
      ]
     },
     "execution_count": 80,
     "metadata": {},
     "output_type": "execute_result"
    }
   ],
   "source": [
    "items_df['keywords'].head()"
   ]
  },
  {
   "cell_type": "markdown",
   "metadata": {
    "hidden": true
   },
   "source": [
    "Если планируется использовать - можно, например, заполнить пропуски копипастой из других фич"
   ]
  },
  {
   "cell_type": "code",
   "execution_count": 81,
   "metadata": {
    "hidden": true
   },
   "outputs": [],
   "source": [
    "items_df['keywords'] = items_df['keywords'].fillna('Unknown')"
   ]
  },
  {
   "cell_type": "code",
   "execution_count": 82,
   "metadata": {
    "hidden": true
   },
   "outputs": [],
   "source": [
    "items_df['keywords'] = items_df['keywords'].astype('category')"
   ]
  },
  {
   "cell_type": "markdown",
   "metadata": {
    "hidden": true
   },
   "source": [
    "#### description"
   ]
  },
  {
   "cell_type": "code",
   "execution_count": 83,
   "metadata": {
    "hidden": true
   },
   "outputs": [],
   "source": [
    "items_df['description'] = items_df['description'].fillna('-')"
   ]
  },
  {
   "cell_type": "markdown",
   "metadata": {
    "hidden": true
   },
   "source": [
    "#### Duplicates check"
   ]
  },
  {
   "cell_type": "code",
   "execution_count": 84,
   "metadata": {
    "hidden": true
   },
   "outputs": [
    {
     "data": {
      "text/plain": [
       "0"
      ]
     },
     "execution_count": 84,
     "metadata": {},
     "output_type": "execute_result"
    }
   ],
   "source": [
    "items_df.duplicated(subset=['item_id'], keep=False).sum()"
   ]
  },
  {
   "cell_type": "code",
   "execution_count": 85,
   "metadata": {
    "hidden": true
   },
   "outputs": [
    {
     "data": {
      "text/plain": [
       "1300"
      ]
     },
     "execution_count": 85,
     "metadata": {},
     "output_type": "execute_result"
    }
   ],
   "source": [
    "items_df.duplicated(subset=['title'], keep=False).sum()"
   ]
  },
  {
   "cell_type": "code",
   "execution_count": 86,
   "metadata": {
    "hidden": true
   },
   "outputs": [
    {
     "data": {
      "text/html": [
       "<div>\n",
       "<style scoped>\n",
       "    .dataframe tbody tr th:only-of-type {\n",
       "        vertical-align: middle;\n",
       "    }\n",
       "\n",
       "    .dataframe tbody tr th {\n",
       "        vertical-align: top;\n",
       "    }\n",
       "\n",
       "    .dataframe thead th {\n",
       "        text-align: right;\n",
       "    }\n",
       "</style>\n",
       "<table border=\"1\" class=\"dataframe\">\n",
       "  <thead>\n",
       "    <tr style=\"text-align: right;\">\n",
       "      <th></th>\n",
       "      <th>content_type</th>\n",
       "      <th>title</th>\n",
       "      <th>countries</th>\n",
       "      <th>for_kids</th>\n",
       "      <th>directors</th>\n",
       "    </tr>\n",
       "  </thead>\n",
       "  <tbody>\n",
       "    <tr>\n",
       "      <th>7333</th>\n",
       "      <td>film</td>\n",
       "      <td>пираты по соседству</td>\n",
       "      <td>нидерланды</td>\n",
       "      <td>False</td>\n",
       "      <td>пим ван хёве</td>\n",
       "    </tr>\n",
       "    <tr>\n",
       "      <th>12757</th>\n",
       "      <td>film</td>\n",
       "      <td>пираты по соседству</td>\n",
       "      <td>нидерланды</td>\n",
       "      <td>False</td>\n",
       "      <td>пим ван хёве</td>\n",
       "    </tr>\n",
       "  </tbody>\n",
       "</table>\n",
       "</div>"
      ],
      "text/plain": [
       "      content_type                title   countries  for_kids     directors\n",
       "7333          film  пираты по соседству  нидерланды     False  пим ван хёве\n",
       "12757         film  пираты по соседству  нидерланды     False  пим ван хёве"
      ]
     },
     "execution_count": 86,
     "metadata": {},
     "output_type": "execute_result"
    }
   ],
   "source": [
    "items_df[items_df.duplicated(subset=['content_type', 'countries', 'title', 'directors'], keep=False)].sort_values('title')[['content_type', 'title', 'countries', 'for_kids', 'directors']].head()"
   ]
  },
  {
   "cell_type": "code",
   "execution_count": 87,
   "metadata": {
    "hidden": true
   },
   "outputs": [
    {
     "data": {
      "text/plain": [
       "2"
      ]
     },
     "execution_count": 87,
     "metadata": {},
     "output_type": "execute_result"
    }
   ],
   "source": [
    "items_df.duplicated(subset=['content_type', 'countries', 'title', 'directors'], keep=False).sum()"
   ]
  },
  {
   "cell_type": "markdown",
   "metadata": {
    "hidden": true
   },
   "source": [
    "### Result"
   ]
  },
  {
   "cell_type": "code",
   "execution_count": 88,
   "metadata": {
    "hidden": true
   },
   "outputs": [
    {
     "name": "stdout",
     "output_type": "stream",
     "text": [
      "<class 'pandas.core.frame.DataFrame'>\n",
      "RangeIndex: 15963 entries, 0 to 15962\n",
      "Data columns (total 14 columns):\n",
      " #   Column            Non-Null Count  Dtype   \n",
      "---  ------            --------------  -----   \n",
      " 0   item_id           15963 non-null  int64   \n",
      " 1   content_type      15963 non-null  category\n",
      " 2   title             15963 non-null  object  \n",
      " 3   title_orig        15963 non-null  object  \n",
      " 4   genres            15963 non-null  category\n",
      " 5   countries         15963 non-null  category\n",
      " 6   for_kids          15963 non-null  bool    \n",
      " 7   age_rating        15963 non-null  category\n",
      " 8   studios           15963 non-null  category\n",
      " 9   directors         15963 non-null  category\n",
      " 10  actors            15963 non-null  category\n",
      " 11  description       15963 non-null  object  \n",
      " 12  keywords          15963 non-null  category\n",
      " 13  release_year_cat  15963 non-null  category\n",
      "dtypes: bool(1), category(9), int64(1), object(3)\n",
      "memory usage: 2.4+ MB\n"
     ]
    },
    {
     "name": "stderr",
     "output_type": "stream",
     "text": [
      "/var/folders/m6/zwm77pk94gzgvxhxv086mjychvzkhw/T/ipykernel_72680/3045960088.py:1: FutureWarning: null_counts is deprecated. Use show_counts instead\n",
      "  items_df.info(verbose=True, null_counts=True)\n"
     ]
    }
   ],
   "source": [
    "items_df.info(verbose=True, null_counts=True)"
   ]
  },
  {
   "cell_type": "markdown",
   "metadata": {
    "heading_collapsed": true
   },
   "source": [
    "## Interactions"
   ]
  },
  {
   "cell_type": "code",
   "execution_count": 89,
   "metadata": {
    "hidden": true
   },
   "outputs": [
    {
     "data": {
      "text/html": [
       "<div>\n",
       "<style scoped>\n",
       "    .dataframe tbody tr th:only-of-type {\n",
       "        vertical-align: middle;\n",
       "    }\n",
       "\n",
       "    .dataframe tbody tr th {\n",
       "        vertical-align: top;\n",
       "    }\n",
       "\n",
       "    .dataframe thead th {\n",
       "        text-align: right;\n",
       "    }\n",
       "</style>\n",
       "<table border=\"1\" class=\"dataframe\">\n",
       "  <thead>\n",
       "    <tr style=\"text-align: right;\">\n",
       "      <th></th>\n",
       "      <th>user_id</th>\n",
       "      <th>item_id</th>\n",
       "      <th>last_watch_dt</th>\n",
       "      <th>total_dur</th>\n",
       "      <th>watched_pct</th>\n",
       "    </tr>\n",
       "  </thead>\n",
       "  <tbody>\n",
       "    <tr>\n",
       "      <th>0</th>\n",
       "      <td>176549</td>\n",
       "      <td>9506</td>\n",
       "      <td>2021-05-11</td>\n",
       "      <td>4250</td>\n",
       "      <td>72.0</td>\n",
       "    </tr>\n",
       "    <tr>\n",
       "      <th>1</th>\n",
       "      <td>699317</td>\n",
       "      <td>1659</td>\n",
       "      <td>2021-05-29</td>\n",
       "      <td>8317</td>\n",
       "      <td>100.0</td>\n",
       "    </tr>\n",
       "    <tr>\n",
       "      <th>2</th>\n",
       "      <td>656683</td>\n",
       "      <td>7107</td>\n",
       "      <td>2021-05-09</td>\n",
       "      <td>10</td>\n",
       "      <td>0.0</td>\n",
       "    </tr>\n",
       "    <tr>\n",
       "      <th>3</th>\n",
       "      <td>864613</td>\n",
       "      <td>7638</td>\n",
       "      <td>2021-07-05</td>\n",
       "      <td>14483</td>\n",
       "      <td>100.0</td>\n",
       "    </tr>\n",
       "    <tr>\n",
       "      <th>4</th>\n",
       "      <td>964868</td>\n",
       "      <td>9506</td>\n",
       "      <td>2021-04-30</td>\n",
       "      <td>6725</td>\n",
       "      <td>100.0</td>\n",
       "    </tr>\n",
       "  </tbody>\n",
       "</table>\n",
       "</div>"
      ],
      "text/plain": [
       "   user_id  item_id last_watch_dt  total_dur  watched_pct\n",
       "0   176549     9506    2021-05-11       4250         72.0\n",
       "1   699317     1659    2021-05-29       8317        100.0\n",
       "2   656683     7107    2021-05-09         10          0.0\n",
       "3   864613     7638    2021-07-05      14483        100.0\n",
       "4   964868     9506    2021-04-30       6725        100.0"
      ]
     },
     "execution_count": 89,
     "metadata": {},
     "output_type": "execute_result"
    }
   ],
   "source": [
    "interactions_df.head()"
   ]
  },
  {
   "cell_type": "code",
   "execution_count": 90,
   "metadata": {
    "hidden": true
   },
   "outputs": [
    {
     "data": {
      "text/plain": [
       "(5476251, 5)"
      ]
     },
     "execution_count": 90,
     "metadata": {},
     "output_type": "execute_result"
    }
   ],
   "source": [
    "interactions_df.shape"
   ]
  },
  {
   "cell_type": "code",
   "execution_count": 91,
   "metadata": {
    "hidden": true
   },
   "outputs": [
    {
     "data": {
      "text/plain": [
       "user_id          962179\n",
       "item_id           15706\n",
       "last_watch_dt       163\n",
       "total_dur        129788\n",
       "watched_pct         101\n",
       "dtype: int64"
      ]
     },
     "execution_count": 91,
     "metadata": {},
     "output_type": "execute_result"
    }
   ],
   "source": [
    "interactions_df.nunique()"
   ]
  },
  {
   "cell_type": "code",
   "execution_count": 92,
   "metadata": {
    "hidden": true
   },
   "outputs": [
    {
     "name": "stdout",
     "output_type": "stream",
     "text": [
      "Data date range: 2021-03-13 - 2021-08-22\n"
     ]
    }
   ],
   "source": [
    "print(f'Data date range: {interactions_df.last_watch_dt.min().date()} - {interactions_df.last_watch_dt.max().date()}')"
   ]
  },
  {
   "cell_type": "code",
   "execution_count": 93,
   "metadata": {
    "hidden": true
   },
   "outputs": [
    {
     "name": "stdout",
     "output_type": "stream",
     "text": [
      "<class 'pandas.core.frame.DataFrame'>\n",
      "RangeIndex: 5476251 entries, 0 to 5476250\n",
      "Data columns (total 5 columns):\n",
      " #   Column         Non-Null Count    Dtype         \n",
      "---  ------         --------------    -----         \n",
      " 0   user_id        5476251 non-null  int64         \n",
      " 1   item_id        5476251 non-null  int64         \n",
      " 2   last_watch_dt  5476251 non-null  datetime64[ns]\n",
      " 3   total_dur      5476251 non-null  int64         \n",
      " 4   watched_pct    5475423 non-null  float64       \n",
      "dtypes: datetime64[ns](1), float64(1), int64(3)\n",
      "memory usage: 208.9 MB\n"
     ]
    },
    {
     "name": "stderr",
     "output_type": "stream",
     "text": [
      "/var/folders/m6/zwm77pk94gzgvxhxv086mjychvzkhw/T/ipykernel_72680/109649125.py:1: FutureWarning: null_counts is deprecated. Use show_counts instead\n",
      "  interactions_df.info(null_counts=True, verbose=True)\n"
     ]
    }
   ],
   "source": [
    "interactions_df.info(null_counts=True, verbose=True)"
   ]
  },
  {
   "cell_type": "markdown",
   "metadata": {
    "hidden": true
   },
   "source": [
    "### Preprocessing"
   ]
  },
  {
   "cell_type": "markdown",
   "metadata": {
    "hidden": true
   },
   "source": [
    "#### watched_pct"
   ]
  },
  {
   "cell_type": "code",
   "execution_count": 94,
   "metadata": {
    "hidden": true
   },
   "outputs": [
    {
     "data": {
      "text/plain": [
       "100.0"
      ]
     },
     "execution_count": 94,
     "metadata": {},
     "output_type": "execute_result"
    }
   ],
   "source": [
    "interactions_df.watched_pct.max()"
   ]
  },
  {
   "cell_type": "code",
   "execution_count": 95,
   "metadata": {
    "hidden": true
   },
   "outputs": [
    {
     "data": {
      "text/plain": [
       "0.0"
      ]
     },
     "execution_count": 95,
     "metadata": {},
     "output_type": "execute_result"
    }
   ],
   "source": [
    "interactions_df.watched_pct.min()"
   ]
  },
  {
   "cell_type": "code",
   "execution_count": 96,
   "metadata": {
    "hidden": true
   },
   "outputs": [],
   "source": [
    "interactions_df['watched_pct'] = interactions_df['watched_pct'].astype(pd.Int8Dtype())"
   ]
  },
  {
   "cell_type": "code",
   "execution_count": 97,
   "metadata": {
    "hidden": true
   },
   "outputs": [],
   "source": [
    "interactions_df['watched_pct'] = interactions_df['watched_pct'].fillna(0)"
   ]
  },
  {
   "cell_type": "code",
   "execution_count": 98,
   "metadata": {
    "hidden": true
   },
   "outputs": [
    {
     "data": {
      "text/plain": [
       "<AxesSubplot:>"
      ]
     },
     "execution_count": 98,
     "metadata": {},
     "output_type": "execute_result"
    },
    {
     "data": {
      "image/png": "[encoded data removed]",
      "text/plain": [
       "<Figure size 1224x648 with 1 Axes>"
      ]
     },
     "metadata": {},
     "output_type": "display_data"
    }
   ],
   "source": [
    "interactions_df['watched_pct'].hist()"
   ]
  },
  {
   "cell_type": "markdown",
   "metadata": {
    "hidden": true
   },
   "source": [
    "#### total_dur"
   ]
  },
  {
   "cell_type": "code",
   "execution_count": 99,
   "metadata": {
    "hidden": true
   },
   "outputs": [
    {
     "data": {
      "text/plain": [
       "<AxesSubplot:>"
      ]
     },
     "execution_count": 99,
     "metadata": {},
     "output_type": "execute_result"
    },
    {
     "data": {
      "image/png": "[encoded data removed]",
      "text/plain": [
       "<Figure size 1224x648 with 1 Axes>"
      ]
     },
     "metadata": {},
     "output_type": "display_data"
    }
   ],
   "source": [
    "interactions_df['total_dur'].hist()"
   ]
  },
  {
   "cell_type": "code",
   "execution_count": 100,
   "metadata": {
    "hidden": true
   },
   "outputs": [
    {
     "data": {
      "text/plain": [
       "(16042, 5)"
      ]
     },
     "execution_count": 100,
     "metadata": {},
     "output_type": "execute_result"
    }
   ],
   "source": [
    "interactions_df[interactions_df['total_dur'] > 200000].shape"
   ]
  },
  {
   "cell_type": "code",
   "execution_count": 101,
   "metadata": {
    "hidden": true
   },
   "outputs": [
    {
     "data": {
      "text/plain": [
       "<AxesSubplot:>"
      ]
     },
     "execution_count": 101,
     "metadata": {},
     "output_type": "execute_result"
    },
    {
     "data": {
      "image/png": "[encoded data removed]",
      "text/plain": [
       "<Figure size 1224x648 with 1 Axes>"
      ]
     },
     "metadata": {},
     "output_type": "display_data"
    }
   ],
   "source": [
    "interactions_df[interactions_df['total_dur'] < 200000].total_dur.hist(bins=50)"
   ]
  },
  {
   "cell_type": "markdown",
   "metadata": {
    "hidden": true
   },
   "source": [
    "#### last_watch_dt"
   ]
  },
  {
   "cell_type": "code",
   "execution_count": 102,
   "metadata": {
    "hidden": true
   },
   "outputs": [],
   "source": [
    "interactions_df['last_watch_dt'] = pd.to_datetime(interactions_df['last_watch_dt'])"
   ]
  },
  {
   "cell_type": "code",
   "execution_count": 103,
   "metadata": {
    "hidden": true
   },
   "outputs": [
    {
     "data": {
      "text/plain": [
       "Timestamp('2021-03-13 00:00:00')"
      ]
     },
     "execution_count": 103,
     "metadata": {},
     "output_type": "execute_result"
    }
   ],
   "source": [
    "interactions_df['last_watch_dt'].min()"
   ]
  },
  {
   "cell_type": "code",
   "execution_count": 104,
   "metadata": {
    "hidden": true
   },
   "outputs": [
    {
     "data": {
      "text/plain": [
       "Timestamp('2021-08-22 00:00:00')"
      ]
     },
     "execution_count": 104,
     "metadata": {},
     "output_type": "execute_result"
    }
   ],
   "source": [
    "interactions_df['last_watch_dt'].max()"
   ]
  },
  {
   "cell_type": "code",
   "execution_count": 105,
   "metadata": {
    "hidden": true
   },
   "outputs": [
    {
     "data": {
      "text/plain": [
       "<AxesSubplot:>"
      ]
     },
     "execution_count": 105,
     "metadata": {},
     "output_type": "execute_result"
    },
    {
     "data": {
      "image/png": "[encoded data removed]",
      "text/plain": [
       "<Figure size 1224x648 with 1 Axes>"
      ]
     },
     "metadata": {},
     "output_type": "display_data"
    }
   ],
   "source": [
    "interactions_df['last_watch_dt'].hist(bins=50)"
   ]
  },
  {
   "cell_type": "markdown",
   "metadata": {
    "hidden": true
   },
   "source": [
    "#### Duplicates check"
   ]
  },
  {
   "cell_type": "code",
   "execution_count": 106,
   "metadata": {
    "hidden": true
   },
   "outputs": [
    {
     "data": {
      "text/plain": [
       "0"
      ]
     },
     "execution_count": 106,
     "metadata": {},
     "output_type": "execute_result"
    }
   ],
   "source": [
    "interactions_df.duplicated(subset=['user_id', 'item_id'], keep=False).sum()"
   ]
  },
  {
   "cell_type": "markdown",
   "metadata": {
    "hidden": true
   },
   "source": [
    "### Result"
   ]
  },
  {
   "cell_type": "code",
   "execution_count": 107,
   "metadata": {
    "hidden": true
   },
   "outputs": [
    {
     "name": "stdout",
     "output_type": "stream",
     "text": [
      "<class 'pandas.core.frame.DataFrame'>\n",
      "RangeIndex: 5476251 entries, 0 to 5476250\n",
      "Data columns (total 5 columns):\n",
      " #   Column         Non-Null Count    Dtype         \n",
      "---  ------         --------------    -----         \n",
      " 0   user_id        5476251 non-null  int64         \n",
      " 1   item_id        5476251 non-null  int64         \n",
      " 2   last_watch_dt  5476251 non-null  datetime64[ns]\n",
      " 3   total_dur      5476251 non-null  int64         \n",
      " 4   watched_pct    5476251 non-null  Int8          \n",
      "dtypes: Int8(1), datetime64[ns](1), int64(3)\n",
      "memory usage: 177.6 MB\n"
     ]
    },
    {
     "name": "stderr",
     "output_type": "stream",
     "text": [
      "/var/folders/m6/zwm77pk94gzgvxhxv086mjychvzkhw/T/ipykernel_72680/109649125.py:1: FutureWarning: null_counts is deprecated. Use show_counts instead\n",
      "  interactions_df.info(null_counts=True, verbose=True)\n"
     ]
    }
   ],
   "source": [
    "interactions_df.info(null_counts=True, verbose=True)"
   ]
  },
  {
   "cell_type": "markdown",
   "metadata": {},
   "source": [
    "# Some stats"
   ]
  },
  {
   "cell_type": "code",
   "execution_count": 108,
   "metadata": {},
   "outputs": [
    {
     "name": "stdout",
     "output_type": "stream",
     "text": [
      "Кол-во пользователей всего - 1058088\n",
      "Кол-во пользователей c взаимодействиями и фичами - 744288 (70.34%)\n",
      "Кол-во пользователей только c взаимодействиями - 217891 (20.59%)\n",
      "Кол-во пользователей только c фичами - 95909 (9.06%)\n"
     ]
    }
   ],
   "source": [
    "interaction_users = interactions_df['user_id'].unique()\n",
    "\n",
    "common_users = len(np.intersect1d(interaction_users, users_df['user_id']))\n",
    "users_only_in_interaction = len(np.setdiff1d(interaction_users, users_df['user_id']))\n",
    "users_only_features = len(np.setdiff1d(users_df['user_id'], interaction_users))\n",
    "total_users = common_users + users_only_in_interaction + users_only_features\n",
    "\n",
    "print(f'Кол-во пользователей всего - {total_users}')\n",
    "print(f'Кол-во пользователей c взаимодействиями и фичами - {common_users} ({common_users / total_users * 100:.2f}%)')\n",
    "print(f'Кол-во пользователей только c взаимодействиями - {users_only_in_interaction} ({users_only_in_interaction / total_users * 100:.2f}%)')\n",
    "print(f'Кол-во пользователей только c фичами - {users_only_features} ({users_only_features / total_users * 100:.2f}%)')"
   ]
  },
  {
   "cell_type": "code",
   "execution_count": 109,
   "metadata": {},
   "outputs": [
    {
     "name": "stdout",
     "output_type": "stream",
     "text": [
      "Кол-во объектов всего - 15963\n",
      "Кол-во объектов c взаимодействиями и фичами - 15706 (98.39%)\n",
      "Кол-во объектов только c взаимодействиями - 0 (0.00%)\n",
      "Кол-во объектов только c фичами - 257 (1.61%)\n"
     ]
    }
   ],
   "source": [
    "interaction_items = interactions_df['item_id'].unique()\n",
    "\n",
    "common_items = len(np.intersect1d(interaction_items, items_df['item_id']))\n",
    "items_only_in_interaction = len(np.setdiff1d(interaction_items, items_df['item_id']))\n",
    "items_only_features = len(np.setdiff1d(items_df['item_id'], interaction_items))\n",
    "total_items = common_items + items_only_in_interaction + items_only_features\n",
    "print(f'Кол-во объектов всего - {total_items}')\n",
    "print(f'Кол-во объектов c взаимодействиями и фичами - {common_items} ({common_items / total_items * 100:.2f}%)')\n",
    "print(f'Кол-во объектов только c взаимодействиями - {items_only_in_interaction} ({items_only_in_interaction / total_items * 100:.2f}%)')\n",
    "print(f'Кол-во объектов только c фичами - {items_only_features} ({items_only_features / total_items * 100:.2f}%)')"
   ]
  },
  {
   "cell_type": "markdown",
   "metadata": {},
   "source": [
    "График количества польователей от даты"
   ]
  },
  {
   "cell_type": "code",
   "execution_count": 110,
   "metadata": {
    "scrolled": false
   },
   "outputs": [
    {
     "data": {
      "image/png": "[encoded data removed]",
      "text/plain": [
       "<Figure size 1224x648 with 1 Axes>"
      ]
     },
     "metadata": {},
     "output_type": "display_data"
    }
   ],
   "source": [
    "interactions_df_users_count = interactions_df.groupby(\"last_watch_dt\").agg({'user_id': pd.Series.nunique}).reset_index().sort_values('last_watch_dt')\n",
    "sns.lineplot(data=interactions_df_users_count, x=\"last_watch_dt\", y=\"user_id\");"
   ]
  },
  {
   "cell_type": "markdown",
   "metadata": {},
   "source": [
    "График количества уникальных пользователей от даты"
   ]
  },
  {
   "cell_type": "code",
   "execution_count": 111,
   "metadata": {},
   "outputs": [],
   "source": [
    "interactions_df_unique_users_count = []\n",
    "unique_users = set()\n",
    "\n",
    "for date in sorted(interactions_df.last_watch_dt.unique()):\n",
    "    date_unique_users = interactions_df[interactions_df.last_watch_dt == date].user_id.unique()\n",
    "    interactions_df_unique_users_count.append((date, len(set(date_unique_users) - unique_users)))\n",
    "    unique_users = unique_users.union(set(date_unique_users))"
   ]
  },
  {
   "cell_type": "code",
   "execution_count": 112,
   "metadata": {},
   "outputs": [
    {
     "data": {
      "text/plain": [
       "<AxesSubplot:xlabel='date', ylabel='count'>"
      ]
     },
     "execution_count": 112,
     "metadata": {},
     "output_type": "execute_result"
    },
    {
     "data": {
      "image/png": "[encoded data removed]",
      "text/plain": [
       "<Figure size 1224x648 with 1 Axes>"
      ]
     },
     "metadata": {},
     "output_type": "display_data"
    }
   ],
   "source": [
    "sns.lineplot(data=pd.DataFrame(interactions_df_unique_users_count, columns=['date', 'count']), x=\"date\", y=\"count\") "
   ]
  },
  {
   "cell_type": "markdown",
   "metadata": {},
   "source": [
    "Ага, очевидно, что каждый день есть у нас есть новые, \"холодные\" пользователи\n",
    "Это необходимо учесть в модели и по хорошему - придумать, что с ними делать"
   ]
  },
  {
   "cell_type": "markdown",
   "metadata": {},
   "source": [
    "Посмотрим на обьекты"
   ]
  },
  {
   "cell_type": "code",
   "execution_count": 113,
   "metadata": {},
   "outputs": [
    {
     "data": {
      "image/png": "[encoded data removed]",
      "text/plain": [
       "<Figure size 1224x648 with 1 Axes>"
      ]
     },
     "metadata": {},
     "output_type": "display_data"
    }
   ],
   "source": [
    "interactions_df_items_count = interactions_df.groupby(\"last_watch_dt\").agg({'item_id': pd.Series.nunique}).reset_index().sort_values('last_watch_dt')\n",
    "sns.lineplot(data=interactions_df_items_count, x=\"last_watch_dt\", y=\"item_id\");"
   ]
  },
  {
   "cell_type": "code",
   "execution_count": 114,
   "metadata": {},
   "outputs": [],
   "source": [
    "interactions_df_unique_items_count = []\n",
    "unique_items = set()\n",
    "\n",
    "for date in sorted(interactions_df.last_watch_dt.unique()):\n",
    "    date_unique_items = interactions_df[interactions_df.last_watch_dt == date].item_id.unique()\n",
    "    interactions_df_unique_items_count.append((date, len(set(date_unique_items) - unique_items)))\n",
    "    unique_items = unique_items.union(set(date_unique_items))\n",
    "    \n",
    "interactions_df_unique_items_count = pd.DataFrame(interactions_df_unique_items_count, columns=['date', 'count'])"
   ]
  },
  {
   "cell_type": "code",
   "execution_count": 115,
   "metadata": {},
   "outputs": [
    {
     "data": {
      "text/plain": [
       "<AxesSubplot:xlabel='date', ylabel='count'>"
      ]
     },
     "execution_count": 115,
     "metadata": {},
     "output_type": "execute_result"
    },
    {
     "data": {
      "image/png": "[encoded data removed]",
      "text/plain": [
       "<Figure size 1224x648 with 1 Axes>"
      ]
     },
     "metadata": {},
     "output_type": "display_data"
    }
   ],
   "source": [
    "sns.lineplot(data=interactions_df_unique_items_count, x=\"date\", y=\"count\") "
   ]
  },
  {
   "cell_type": "code",
   "execution_count": 116,
   "metadata": {},
   "outputs": [
    {
     "data": {
      "text/plain": [
       "<AxesSubplot:xlabel='date', ylabel='count'>"
      ]
     },
     "execution_count": 116,
     "metadata": {},
     "output_type": "execute_result"
    },
    {
     "data": {
      "image/png": "[encoded data removed]",
      "text/plain": [
       "<Figure size 1224x648 with 1 Axes>"
      ]
     },
     "metadata": {},
     "output_type": "display_data"
    }
   ],
   "source": [
    "sns.lineplot(data=interactions_df_unique_items_count[interactions_df_unique_items_count.date > '2021-04-01'], x=\"date\", y=\"count\") "
   ]
  },
  {
   "cell_type": "markdown",
   "metadata": {},
   "source": [
    "\"Холодные\" объекты тоже есть, но их явно меньше"
   ]
  },
  {
   "cell_type": "markdown",
   "metadata": {},
   "source": [
    "Посмотрим на юзеров, для которых нам предсказывать"
   ]
  },
  {
   "cell_type": "code",
   "execution_count": 118,
   "metadata": {},
   "outputs": [],
   "source": [
    "submission = pd.read_csv('sample_submission.csv')"
   ]
  },
  {
   "cell_type": "code",
   "execution_count": 119,
   "metadata": {},
   "outputs": [
    {
     "data": {
      "text/html": [
       "<div>\n",
       "<style scoped>\n",
       "    .dataframe tbody tr th:only-of-type {\n",
       "        vertical-align: middle;\n",
       "    }\n",
       "\n",
       "    .dataframe tbody tr th {\n",
       "        vertical-align: top;\n",
       "    }\n",
       "\n",
       "    .dataframe thead th {\n",
       "        text-align: right;\n",
       "    }\n",
       "</style>\n",
       "<table border=\"1\" class=\"dataframe\">\n",
       "  <thead>\n",
       "    <tr style=\"text-align: right;\">\n",
       "      <th></th>\n",
       "      <th>user_id</th>\n",
       "      <th>item_id</th>\n",
       "    </tr>\n",
       "  </thead>\n",
       "  <tbody>\n",
       "    <tr>\n",
       "      <th>0</th>\n",
       "      <td>3</td>\n",
       "      <td>[9728, 15297, 10440, 14488, 13865, 12192, 341,...</td>\n",
       "    </tr>\n",
       "    <tr>\n",
       "      <th>1</th>\n",
       "      <td>11</td>\n",
       "      <td>[9728, 15297, 10440, 14488, 13865, 12192, 341,...</td>\n",
       "    </tr>\n",
       "    <tr>\n",
       "      <th>2</th>\n",
       "      <td>29</td>\n",
       "      <td>[9728, 15297, 10440, 14488, 13865, 12192, 341,...</td>\n",
       "    </tr>\n",
       "    <tr>\n",
       "      <th>3</th>\n",
       "      <td>30</td>\n",
       "      <td>[9728, 15297, 10440, 14488, 13865, 12192, 341,...</td>\n",
       "    </tr>\n",
       "    <tr>\n",
       "      <th>4</th>\n",
       "      <td>33</td>\n",
       "      <td>[9728, 15297, 10440, 14488, 13865, 12192, 341,...</td>\n",
       "    </tr>\n",
       "  </tbody>\n",
       "</table>\n",
       "</div>"
      ],
      "text/plain": [
       "   user_id                                            item_id\n",
       "0        3  [9728, 15297, 10440, 14488, 13865, 12192, 341,...\n",
       "1       11  [9728, 15297, 10440, 14488, 13865, 12192, 341,...\n",
       "2       29  [9728, 15297, 10440, 14488, 13865, 12192, 341,...\n",
       "3       30  [9728, 15297, 10440, 14488, 13865, 12192, 341,...\n",
       "4       33  [9728, 15297, 10440, 14488, 13865, 12192, 341,..."
      ]
     },
     "execution_count": 119,
     "metadata": {},
     "output_type": "execute_result"
    }
   ],
   "source": [
    "submission.head()"
   ]
  },
  {
   "cell_type": "code",
   "execution_count": 120,
   "metadata": {},
   "outputs": [
    {
     "data": {
      "text/plain": [
       "962179"
      ]
     },
     "execution_count": 120,
     "metadata": {},
     "output_type": "execute_result"
    }
   ],
   "source": [
    "interactions_df.user_id.nunique()"
   ]
  },
  {
   "cell_type": "code",
   "execution_count": 121,
   "metadata": {},
   "outputs": [
    {
     "data": {
      "text/plain": [
       "193113"
      ]
     },
     "execution_count": 121,
     "metadata": {},
     "output_type": "execute_result"
    }
   ],
   "source": [
    "submission.user_id.nunique()"
   ]
  },
  {
   "cell_type": "code",
   "execution_count": 122,
   "metadata": {},
   "outputs": [
    {
     "data": {
      "text/plain": [
       "64943"
      ]
     },
     "execution_count": 122,
     "metadata": {},
     "output_type": "execute_result"
    }
   ],
   "source": [
    "len(set(submission.user_id.unique())-set(interactions_df.user_id.unique()))"
   ]
  },
  {
   "cell_type": "markdown",
   "metadata": {},
   "source": [
    "25827 пользователей из 95373 у нас холодные"
   ]
  },
  {
   "cell_type": "markdown",
   "metadata": {},
   "source": [
    "Посмотрим сколько взаимодействий по теплым"
   ]
  },
  {
   "cell_type": "code",
   "execution_count": 123,
   "metadata": {},
   "outputs": [],
   "source": [
    "interactions_of_sub_users = interactions_df[interactions_df.user_id.isin(submission.user_id.unique())]"
   ]
  },
  {
   "cell_type": "code",
   "execution_count": 124,
   "metadata": {},
   "outputs": [
    {
     "data": {
      "text/plain": [
       "1     17001\n",
       "2     12777\n",
       "3     10473\n",
       "4      8854\n",
       "5      7436\n",
       "6      6471\n",
       "7      5745\n",
       "8      4995\n",
       "9      4426\n",
       "10     3890\n",
       "Name: item_id, dtype: int64"
      ]
     },
     "execution_count": 124,
     "metadata": {},
     "output_type": "execute_result"
    }
   ],
   "source": [
    "interactions_of_sub_users.groupby('user_id').agg({'item_id': 'count'}).reset_index().item_id.value_counts().head(10)"
   ]
  },
  {
   "cell_type": "markdown",
   "metadata": {},
   "source": [
    "# Сохранение"
   ]
  },
  {
   "cell_type": "code",
   "execution_count": 125,
   "metadata": {},
   "outputs": [],
   "source": [
    "users_df.to_csv('users_processed.csv', index=False)\n",
    "items_df.to_csv('items_processed.csv', index=False)\n",
    "interactions_df.to_csv('interactions_processed.csv', index=False)"
   ]
  },
  {
   "cell_type": "code",
   "execution_count": null,
   "metadata": {},
   "outputs": [],
   "source": []
  }
 ],
 "metadata": {
  "kernelspec": {
   "display_name": "MTS ed",
   "language": "python",
   "name": "mts_ed_recsys"
  },
  "language_info": {
   "codemirror_mode": {
    "name": "ipython",
    "version": 3
   },
   "file_extension": ".py",
   "mimetype": "text/x-python",
   "name": "python",
   "nbconvert_exporter": "python",
   "pygments_lexer": "ipython3",
   "version": "3.8.2"
  }
 },
 "nbformat": 4,
 "nbformat_minor": 4
}
