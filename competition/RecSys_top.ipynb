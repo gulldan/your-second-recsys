{
 "cells": [
  {
   "cell_type": "code",
   "execution_count": 1,
   "id": "d2b1dfe3",
   "metadata": {
    "ExecuteTime": {
     "end_time": "2022-02-11T08:30:32.631106Z",
     "start_time": "2022-02-11T08:30:31.482628Z"
    }
   },
   "outputs": [
    {
     "name": "stderr",
     "output_type": "stream",
     "text": [
      "/var/folders/m6/zwm77pk94gzgvxhxv086mjychvzkhw/T/ipykernel_72879/2836973646.py:23: DeprecationWarning: Importing display from IPython.core.display is deprecated since IPython 7.14, please import from IPython display\n",
      "  from IPython.core.display import display, HTML, clear_output\n",
      "/var/folders/m6/zwm77pk94gzgvxhxv086mjychvzkhw/T/ipykernel_72879/2836973646.py:23: DeprecationWarning: Importing clear_output from IPython.core.display is deprecated since IPython 7.14, please import from IPython display\n",
      "  from IPython.core.display import display, HTML, clear_output\n"
     ]
    },
    {
     "data": {
      "text/html": [
       "<style>.container { width:80% !important; }</style>"
      ],
      "text/plain": [
       "<IPython.core.display.HTML object>"
      ]
     },
     "metadata": {},
     "output_type": "display_data"
    },
    {
     "data": {
      "text/html": [
       "<style>.prompt { min-width:10ex !important; }</style>"
      ],
      "text/plain": [
       "<IPython.core.display.HTML object>"
      ]
     },
     "metadata": {},
     "output_type": "display_data"
    },
    {
     "data": {
      "text/html": [
       "<style>div#notebook { font-size:12px !important; }</style>"
      ],
      "text/plain": [
       "<IPython.core.display.HTML object>"
      ]
     },
     "metadata": {},
     "output_type": "display_data"
    }
   ],
   "source": [
    "import random\n",
    "import datetime\n",
    "import numpy as np\n",
    "\n",
    "import scipy.sparse as sp\n",
    "import pandas as pd\n",
    "\n",
    "from itertools import islice, cycle\n",
    "from more_itertools import pairwise\n",
    "from implicit.nearest_neighbours import TFIDFRecommender, BM25Recommender, CosineRecommender\n",
    "\n",
    "%matplotlib inline\n",
    "import matplotlib as mpl\n",
    "import matplotlib.pyplot as plt\n",
    "mpl.rc('axes', labelsize=14)\n",
    "mpl.rc('xtick', labelsize=12)\n",
    "mpl.rc('ytick', labelsize=12)\n",
    "\n",
    "import seaborn as sns\n",
    "sns.set(style='whitegrid')\n",
    "sns.set(rc={'figure.figsize':(17, 9)})\n",
    "\n",
    "from IPython.core.display import display, HTML, clear_output\n",
    "display(HTML('<style>.container { width:80% !important; }</style>'))\n",
    "display(HTML('<style>.prompt { min-width:10ex !important; }</style>'))\n",
    "display(HTML('<style>div#notebook { font-size:12px !important; }</style>'))"
   ]
  },
  {
   "cell_type": "markdown",
   "id": "3d2de661",
   "metadata": {},
   "source": [
    "### Импортируем некоторые полезные функции"
   ]
  },
  {
   "cell_type": "code",
   "execution_count": 2,
   "id": "cbcdbe92",
   "metadata": {
    "ExecuteTime": {
     "end_time": "2022-02-11T08:30:33.871783Z",
     "start_time": "2022-02-11T08:30:33.868659Z"
    }
   },
   "outputs": [],
   "source": [
    "from tools import *"
   ]
  },
  {
   "cell_type": "markdown",
   "id": "d93dbc37",
   "metadata": {},
   "source": [
    "### Загрузим преобработанные данные"
   ]
  },
  {
   "cell_type": "code",
   "execution_count": 3,
   "id": "492df028",
   "metadata": {
    "ExecuteTime": {
     "end_time": "2022-02-11T08:30:38.720203Z",
     "start_time": "2022-02-11T08:30:35.533971Z"
    }
   },
   "outputs": [],
   "source": [
    "users_df = pd.read_csv('users_processed.csv',)\n",
    "items_df = pd.read_csv('items_processed.csv',)\n",
    "interactions_df = pd.read_csv('interactions_processed.csv', parse_dates=['last_watch_dt'])"
   ]
  },
  {
   "cell_type": "code",
   "execution_count": null,
   "id": "df1705ef",
   "metadata": {},
   "outputs": [],
   "source": []
  },
  {
   "cell_type": "code",
   "execution_count": 4,
   "id": "8fd00cd8",
   "metadata": {
    "ExecuteTime": {
     "end_time": "2022-02-11T08:30:38.860163Z",
     "start_time": "2022-02-11T08:30:38.722209Z"
    }
   },
   "outputs": [],
   "source": [
    "submission = pd.read_csv('sample_submission.csv')"
   ]
  },
  {
   "cell_type": "markdown",
   "id": "c2d00d44",
   "metadata": {},
   "source": [
    "### Посмотрим на распределение просмотренных item у пользователей и возьмем медиану"
   ]
  },
  {
   "cell_type": "code",
   "execution_count": 5,
   "id": "b257228f",
   "metadata": {
    "ExecuteTime": {
     "end_time": "2022-02-11T08:30:41.328372Z",
     "start_time": "2022-02-11T08:30:38.861592Z"
    }
   },
   "outputs": [],
   "source": [
    "df_user_gr = interactions_df.groupby('user_id').item_id.nunique().reset_index()"
   ]
  },
  {
   "cell_type": "code",
   "execution_count": 6,
   "id": "227bca02",
   "metadata": {
    "ExecuteTime": {
     "end_time": "2022-02-11T08:30:41.345588Z",
     "start_time": "2022-02-11T08:30:41.330368Z"
    }
   },
   "outputs": [
    {
     "data": {
      "text/plain": [
       "2.0"
      ]
     },
     "execution_count": 6,
     "metadata": {},
     "output_type": "execute_result"
    }
   ],
   "source": [
    "df_user_gr['item_id'].quantile(0.5)"
   ]
  },
  {
   "cell_type": "markdown",
   "id": "9d5dcd42",
   "metadata": {},
   "source": [
    "### Посмотрим на распределение доли процента смотрения фильмов/сериалов у пользователей"
   ]
  },
  {
   "cell_type": "code",
   "execution_count": 7,
   "id": "f5244d3d",
   "metadata": {
    "ExecuteTime": {
     "end_time": "2022-02-11T08:30:42.905929Z",
     "start_time": "2022-02-11T08:30:42.456910Z"
    }
   },
   "outputs": [
    {
     "data": {
      "text/plain": [
       "<AxesSubplot:>"
      ]
     },
     "execution_count": 7,
     "metadata": {},
     "output_type": "execute_result"
    },
    {
     "data": {
      "image/png": "[encoded data removed]",
      "text/plain": [
       "<Figure size 1224x648 with 1 Axes>"
      ]
     },
     "metadata": {},
     "output_type": "display_data"
    }
   ],
   "source": [
    "interactions_df['watched_pct'].hist(bins = 64)"
   ]
  },
  {
   "cell_type": "markdown",
   "id": "06e9dd9c",
   "metadata": {},
   "source": [
    "Выберем пороги для горячих пользователей"
   ]
  },
  {
   "cell_type": "code",
   "execution_count": 8,
   "id": "78aa7d62",
   "metadata": {
    "ExecuteTime": {
     "end_time": "2022-02-11T08:30:51.774587Z",
     "start_time": "2022-02-11T08:30:50.229770Z"
    }
   },
   "outputs": [],
   "source": [
    "interactions_df_hot = interactions_df[(interactions_df['watched_pct'] >= 5) &\n",
    "                                      (interactions_df['user_id'].isin(df_user_gr[df_user_gr['item_id'] >= 3]['user_id'].unique()))].copy()"
   ]
  },
  {
   "cell_type": "code",
   "execution_count": 9,
   "id": "e2d1f465",
   "metadata": {
    "ExecuteTime": {
     "end_time": "2022-02-11T08:30:52.083261Z",
     "start_time": "2022-02-11T08:30:51.777862Z"
    }
   },
   "outputs": [],
   "source": [
    "test_hot = submission.merge(interactions_df_hot[['user_id']].drop_duplicates(), on = 'user_id', how = 'inner')"
   ]
  },
  {
   "cell_type": "code",
   "execution_count": null,
   "id": "d0917c40",
   "metadata": {},
   "outputs": [],
   "source": []
  },
  {
   "cell_type": "markdown",
   "id": "de9f6a52",
   "metadata": {},
   "source": [
    "### Сделаем матрицу весов, зависящую от даты последнего просмотра"
   ]
  },
  {
   "cell_type": "code",
   "execution_count": 10,
   "id": "2bca09c1",
   "metadata": {
    "ExecuteTime": {
     "end_time": "2022-02-11T08:30:57.363048Z",
     "start_time": "2022-02-11T08:30:57.339919Z"
    }
   },
   "outputs": [],
   "source": [
    "dt_max = np.datetime64(interactions_df['last_watch_dt'].max())"
   ]
  },
  {
   "cell_type": "code",
   "execution_count": 11,
   "id": "d9007aa1",
   "metadata": {
    "ExecuteTime": {
     "end_time": "2022-02-11T08:30:58.629251Z",
     "start_time": "2022-02-11T08:30:58.426082Z"
    }
   },
   "outputs": [],
   "source": [
    "interactions_df['date_weight'] = 1 / ((dt_max - interactions_df['last_watch_dt'].values).astype('timedelta64[D]') / np.timedelta64(1, 'D') + 1)"
   ]
  },
  {
   "cell_type": "markdown",
   "id": "b0e356aa",
   "metadata": {},
   "source": [
    "### Посмотрим на распределение весов"
   ]
  },
  {
   "cell_type": "code",
   "execution_count": 12,
   "id": "6270e4c2",
   "metadata": {
    "ExecuteTime": {
     "end_time": "2022-02-11T08:31:26.427562Z",
     "start_time": "2022-02-11T08:31:26.010010Z"
    }
   },
   "outputs": [
    {
     "data": {
      "text/plain": [
       "<AxesSubplot:>"
      ]
     },
     "execution_count": 12,
     "metadata": {},
     "output_type": "execute_result"
    },
    {
     "data": {
      "image/png": "[encoded data removed]",
      "text/plain": [
       "<Figure size 1224x648 with 1 Axes>"
      ]
     },
     "metadata": {},
     "output_type": "display_data"
    }
   ],
   "source": [
    "interactions_df['date_weight'].hist(bins = 64)"
   ]
  },
  {
   "cell_type": "code",
   "execution_count": 13,
   "id": "32c77e53",
   "metadata": {
    "ExecuteTime": {
     "end_time": "2022-02-11T08:31:27.953380Z",
     "start_time": "2022-02-11T08:31:27.937793Z"
    }
   },
   "outputs": [
    {
     "data": {
      "text/html": [
       "<div>\n",
       "<style scoped>\n",
       "    .dataframe tbody tr th:only-of-type {\n",
       "        vertical-align: middle;\n",
       "    }\n",
       "\n",
       "    .dataframe tbody tr th {\n",
       "        vertical-align: top;\n",
       "    }\n",
       "\n",
       "    .dataframe thead th {\n",
       "        text-align: right;\n",
       "    }\n",
       "</style>\n",
       "<table border=\"1\" class=\"dataframe\">\n",
       "  <thead>\n",
       "    <tr style=\"text-align: right;\">\n",
       "      <th></th>\n",
       "      <th>user_id</th>\n",
       "      <th>item_id</th>\n",
       "      <th>last_watch_dt</th>\n",
       "      <th>total_dur</th>\n",
       "      <th>watched_pct</th>\n",
       "      <th>date_weight</th>\n",
       "    </tr>\n",
       "  </thead>\n",
       "  <tbody>\n",
       "    <tr>\n",
       "      <th>0</th>\n",
       "      <td>176549</td>\n",
       "      <td>9506</td>\n",
       "      <td>2021-05-11</td>\n",
       "      <td>4250</td>\n",
       "      <td>72</td>\n",
       "      <td>0.009615</td>\n",
       "    </tr>\n",
       "    <tr>\n",
       "      <th>1</th>\n",
       "      <td>699317</td>\n",
       "      <td>1659</td>\n",
       "      <td>2021-05-29</td>\n",
       "      <td>8317</td>\n",
       "      <td>100</td>\n",
       "      <td>0.011628</td>\n",
       "    </tr>\n",
       "    <tr>\n",
       "      <th>2</th>\n",
       "      <td>656683</td>\n",
       "      <td>7107</td>\n",
       "      <td>2021-05-09</td>\n",
       "      <td>10</td>\n",
       "      <td>0</td>\n",
       "      <td>0.009434</td>\n",
       "    </tr>\n",
       "    <tr>\n",
       "      <th>3</th>\n",
       "      <td>864613</td>\n",
       "      <td>7638</td>\n",
       "      <td>2021-07-05</td>\n",
       "      <td>14483</td>\n",
       "      <td>100</td>\n",
       "      <td>0.020408</td>\n",
       "    </tr>\n",
       "    <tr>\n",
       "      <th>4</th>\n",
       "      <td>964868</td>\n",
       "      <td>9506</td>\n",
       "      <td>2021-04-30</td>\n",
       "      <td>6725</td>\n",
       "      <td>100</td>\n",
       "      <td>0.008696</td>\n",
       "    </tr>\n",
       "  </tbody>\n",
       "</table>\n",
       "</div>"
      ],
      "text/plain": [
       "   user_id  item_id last_watch_dt  total_dur  watched_pct  date_weight\n",
       "0   176549     9506    2021-05-11       4250           72     0.009615\n",
       "1   699317     1659    2021-05-29       8317          100     0.011628\n",
       "2   656683     7107    2021-05-09         10            0     0.009434\n",
       "3   864613     7638    2021-07-05      14483          100     0.020408\n",
       "4   964868     9506    2021-04-30       6725          100     0.008696"
      ]
     },
     "execution_count": 13,
     "metadata": {},
     "output_type": "execute_result"
    }
   ],
   "source": [
    "interactions_df.head()"
   ]
  },
  {
   "cell_type": "markdown",
   "id": "273df74f",
   "metadata": {},
   "source": [
    "### Сделаем кросс-валидацию по времени"
   ]
  },
  {
   "cell_type": "code",
   "execution_count": 14,
   "id": "1b91d5a8",
   "metadata": {
    "ExecuteTime": {
     "end_time": "2022-02-11T08:31:32.571730Z",
     "start_time": "2022-02-11T08:31:32.548704Z"
    }
   },
   "outputs": [
    {
     "data": {
      "text/plain": [
       "(Timestamp('2021-08-01 00:00:00'), Timestamp('2021-08-22 00:00:00'))"
      ]
     },
     "execution_count": 14,
     "metadata": {},
     "output_type": "execute_result"
    }
   ],
   "source": [
    "last_date = interactions_df_hot['last_watch_dt'].max().normalize()\n",
    "folds = 3\n",
    "start_date = last_date - pd.Timedelta(days=folds*7)\n",
    "start_date, last_date"
   ]
  },
  {
   "cell_type": "code",
   "execution_count": 15,
   "id": "67a9859d",
   "metadata": {
    "ExecuteTime": {
     "end_time": "2022-02-11T08:31:32.818093Z",
     "start_time": "2022-02-11T08:31:32.796989Z"
    }
   },
   "outputs": [
    {
     "data": {
      "text/plain": [
       "(3, 3)"
      ]
     },
     "execution_count": 15,
     "metadata": {},
     "output_type": "execute_result"
    }
   ],
   "source": [
    "cv = TimeRangeSplit(start_date=start_date, periods=folds+1, freq='W')\n",
    "\n",
    "cv.max_n_splits, cv.get_n_splits(interactions_df_hot, datetime_column='last_watch_dt')"
   ]
  },
  {
   "cell_type": "code",
   "execution_count": 16,
   "id": "d5229e67",
   "metadata": {
    "ExecuteTime": {
     "end_time": "2022-02-11T08:31:33.088519Z",
     "start_time": "2022-02-11T08:31:33.084826Z"
    }
   },
   "outputs": [
    {
     "data": {
      "text/plain": [
       "DatetimeIndex(['2021-08-01', '2021-08-08', '2021-08-15', '2021-08-22'], dtype='datetime64[ns]', freq='W-SUN')"
      ]
     },
     "execution_count": 16,
     "metadata": {},
     "output_type": "execute_result"
    }
   ],
   "source": [
    "cv.date_range"
   ]
  },
  {
   "cell_type": "code",
   "execution_count": 17,
   "id": "9641d25c",
   "metadata": {
    "ExecuteTime": {
     "end_time": "2022-02-11T08:31:54.590191Z",
     "start_time": "2022-02-11T08:31:38.311985Z"
    }
   },
   "outputs": [
    {
     "name": "stdout",
     "output_type": "stream",
     "text": [
      "Already seen number: 0\n",
      "Already seen number: 0\n",
      "Already seen number: 0\n"
     ]
    }
   ],
   "source": [
    "folds_with_stats = list(cv.split(\n",
    "    interactions_df_hot, \n",
    "    user_column='user_id',\n",
    "    item_column='item_id',\n",
    "    datetime_column='last_watch_dt',\n",
    "    fold_stats=True\n",
    "))\n",
    "\n",
    "folds_info_with_stats = pd.DataFrame([info for _, _, info in folds_with_stats])"
   ]
  },
  {
   "cell_type": "code",
   "execution_count": 18,
   "id": "cc12929b",
   "metadata": {
    "ExecuteTime": {
     "end_time": "2022-02-11T08:31:54.598519Z",
     "start_time": "2022-02-11T08:31:54.591588Z"
    }
   },
   "outputs": [
    {
     "data": {
      "text/html": [
       "<div>\n",
       "<style scoped>\n",
       "    .dataframe tbody tr th:only-of-type {\n",
       "        vertical-align: middle;\n",
       "    }\n",
       "\n",
       "    .dataframe tbody tr th {\n",
       "        vertical-align: top;\n",
       "    }\n",
       "\n",
       "    .dataframe thead th {\n",
       "        text-align: right;\n",
       "    }\n",
       "</style>\n",
       "<table border=\"1\" class=\"dataframe\">\n",
       "  <thead>\n",
       "    <tr style=\"text-align: right;\">\n",
       "      <th></th>\n",
       "      <th>Start date</th>\n",
       "      <th>End date</th>\n",
       "      <th>Train</th>\n",
       "      <th>New users</th>\n",
       "      <th>New users interactions</th>\n",
       "      <th>New items</th>\n",
       "      <th>New items interactions</th>\n",
       "      <th>Known interactions</th>\n",
       "      <th>Test</th>\n",
       "    </tr>\n",
       "  </thead>\n",
       "  <tbody>\n",
       "    <tr>\n",
       "      <th>0</th>\n",
       "      <td>2021-08-01</td>\n",
       "      <td>2021-08-08</td>\n",
       "      <td>2838079</td>\n",
       "      <td>22589</td>\n",
       "      <td>59544</td>\n",
       "      <td>215</td>\n",
       "      <td>6008</td>\n",
       "      <td>0</td>\n",
       "      <td>192585</td>\n",
       "    </tr>\n",
       "    <tr>\n",
       "      <th>1</th>\n",
       "      <td>2021-08-08</td>\n",
       "      <td>2021-08-15</td>\n",
       "      <td>3096216</td>\n",
       "      <td>20026</td>\n",
       "      <td>54179</td>\n",
       "      <td>142</td>\n",
       "      <td>4243</td>\n",
       "      <td>0</td>\n",
       "      <td>202560</td>\n",
       "    </tr>\n",
       "    <tr>\n",
       "      <th>2</th>\n",
       "      <td>2021-08-15</td>\n",
       "      <td>2021-08-22</td>\n",
       "      <td>3357198</td>\n",
       "      <td>16466</td>\n",
       "      <td>51633</td>\n",
       "      <td>115</td>\n",
       "      <td>3554</td>\n",
       "      <td>0</td>\n",
       "      <td>210855</td>\n",
       "    </tr>\n",
       "  </tbody>\n",
       "</table>\n",
       "</div>"
      ],
      "text/plain": [
       "  Start date   End date    Train  New users  New users interactions  \\\n",
       "0 2021-08-01 2021-08-08  2838079      22589                   59544   \n",
       "1 2021-08-08 2021-08-15  3096216      20026                   54179   \n",
       "2 2021-08-15 2021-08-22  3357198      16466                   51633   \n",
       "\n",
       "   New items  New items interactions  Known interactions    Test  \n",
       "0        215                    6008                   0  192585  \n",
       "1        142                    4243                   0  202560  \n",
       "2        115                    3554                   0  210855  "
      ]
     },
     "execution_count": 18,
     "metadata": {},
     "output_type": "execute_result"
    }
   ],
   "source": [
    "folds_info_with_stats"
   ]
  },
  {
   "cell_type": "markdown",
   "id": "ba9d7fa9",
   "metadata": {},
   "source": [
    "Сделаем маппинг айдишников"
   ]
  },
  {
   "cell_type": "code",
   "execution_count": 19,
   "id": "c305b2dc",
   "metadata": {
    "ExecuteTime": {
     "end_time": "2022-02-11T08:31:57.514763Z",
     "start_time": "2022-02-11T08:31:57.288338Z"
    }
   },
   "outputs": [],
   "source": [
    "users_inv_mapping = dict(enumerate(interactions_df_hot['user_id'].unique()))\n",
    "users_mapping = {v: k for k, v in users_inv_mapping.items()}\n",
    "\n",
    "items_inv_mapping = dict(enumerate(interactions_df_hot['item_id'].unique()))\n",
    "items_mapping = {v: k for k, v in items_inv_mapping.items()}"
   ]
  },
  {
   "cell_type": "code",
   "execution_count": 20,
   "id": "b8857e09",
   "metadata": {
    "ExecuteTime": {
     "end_time": "2022-02-11T08:34:38.169708Z",
     "start_time": "2022-02-11T08:33:24.239679Z"
    },
    "scrolled": true
   },
   "outputs": [],
   "source": [
    "validation_results = pd.DataFrame()\n",
    "top_N_fit = 400\n",
    "top_N = 10\n",
    "last_n_days = 60\n",
    "for train_idx, test_idx, info in folds_with_stats:\n",
    "    train = interactions_df_hot.loc[train_idx]\n",
    "\n",
    "    date_window = train['last_watch_dt'].max() - pd.DateOffset(days=last_n_days)\n",
    "    train = train[train['last_watch_dt'] >= date_window]\n",
    "\n",
    "    test = interactions_df_hot.loc[test_idx]\n",
    "\n",
    "    train_mat = get_coo_matrix(\n",
    "        train,\n",
    "        users_mapping=users_mapping,\n",
    "        items_mapping=items_mapping,\n",
    "    ).tocsr()\n",
    "\n",
    "    model = TFIDFRecommender(K=top_N_fit)\n",
    "    model.fit(train_mat.T, show_progress=False) \n",
    "\n",
    "    mapper = generate_implicit_recs_mapper( \n",
    "        model,\n",
    "        train_mat,\n",
    "        top_N,\n",
    "        users_mapping,\n",
    "        items_inv_mapping,\n",
    "        filter_already_liked_items=True\n",
    "    )\n",
    "    recs = generate_recs(model, mapper, test['user_id'].unique())\n",
    "\n",
    "    fold_result = compute_metrics(train, test, recs, top_N)\n",
    "    validation_results = validation_results.append(fold_result, ignore_index=True)"
   ]
  },
  {
   "cell_type": "code",
   "execution_count": null,
   "id": "f65d9b7b",
   "metadata": {},
   "outputs": [],
   "source": []
  },
  {
   "cell_type": "code",
   "execution_count": 21,
   "id": "9506096b",
   "metadata": {
    "ExecuteTime": {
     "end_time": "2022-02-11T08:34:38.176084Z",
     "start_time": "2022-02-11T08:34:38.171404Z"
    }
   },
   "outputs": [
    {
     "data": {
      "text/plain": [
       "MAP@10    0.091944\n",
       "dtype: float64"
      ]
     },
     "execution_count": 21,
     "metadata": {},
     "output_type": "execute_result"
    }
   ],
   "source": [
    "validation_results.agg({'MAP@10':'mean'})"
   ]
  },
  {
   "cell_type": "code",
   "execution_count": null,
   "id": "c54d410d",
   "metadata": {},
   "outputs": [],
   "source": []
  },
  {
   "cell_type": "markdown",
   "id": "fd7223a0",
   "metadata": {},
   "source": [
    "### Обучим tfidf на всей матрице "
   ]
  },
  {
   "cell_type": "code",
   "execution_count": 22,
   "id": "94515f28",
   "metadata": {
    "ExecuteTime": {
     "end_time": "2022-02-11T08:36:23.547944Z",
     "start_time": "2022-02-11T08:36:23.046476Z"
    }
   },
   "outputs": [],
   "source": [
    "users_inv_mapping = dict(enumerate(interactions_df['user_id'].unique()))\n",
    "users_mapping = {v: k for k, v in users_inv_mapping.items()}\n",
    "\n",
    "items_inv_mapping = dict(enumerate(interactions_df['item_id'].unique()))\n",
    "items_mapping = {v: k for k, v in items_inv_mapping.items()}"
   ]
  },
  {
   "cell_type": "code",
   "execution_count": 23,
   "id": "6fe7ae41",
   "metadata": {
    "ExecuteTime": {
     "end_time": "2022-02-11T08:36:33.675951Z",
     "start_time": "2022-02-11T08:36:25.625567Z"
    }
   },
   "outputs": [],
   "source": [
    "train_mat = get_coo_matrix(\n",
    "    interactions_df,\n",
    "    users_mapping=users_mapping,\n",
    "    items_mapping=items_mapping,\n",
    "    weight_col='date_weight'\n",
    ").tocsr()\n",
    "\n",
    "model = TFIDFRecommender(K=top_N_fit, num_threads = 32)\n",
    "model.fit(train_mat.T, show_progress=False, ) "
   ]
  },
  {
   "cell_type": "markdown",
   "id": "83713a29",
   "metadata": {},
   "source": [
    "### Сгенерируем кандидатов, фильтруя просмотренные айтемы"
   ]
  },
  {
   "cell_type": "code",
   "execution_count": 24,
   "id": "c066b759",
   "metadata": {
    "ExecuteTime": {
     "end_time": "2022-02-11T08:36:48.021647Z",
     "start_time": "2022-02-11T08:36:33.678120Z"
    }
   },
   "outputs": [],
   "source": [
    " mapper = generate_implicit_recs_mapper( \n",
    "        model,\n",
    "        train_mat,\n",
    "        top_N,\n",
    "        users_mapping,\n",
    "        items_inv_mapping,\n",
    "        filter_already_liked_items=True\n",
    "    )\n",
    "\n",
    "recs_hot = generate_recs(model, mapper, test_hot['user_id'].unique())\n",
    "recs_hot = recs_hot.groupby('user_id').agg({'item_id': list}).reset_index()"
   ]
  },
  {
   "cell_type": "code",
   "execution_count": null,
   "id": "0d9e9b39",
   "metadata": {},
   "outputs": [],
   "source": []
  },
  {
   "cell_type": "code",
   "execution_count": 25,
   "id": "c5895a48",
   "metadata": {
    "ExecuteTime": {
     "end_time": "2022-02-11T08:36:48.029966Z",
     "start_time": "2022-02-11T08:36:48.022955Z"
    }
   },
   "outputs": [
    {
     "data": {
      "text/html": [
       "<div>\n",
       "<style scoped>\n",
       "    .dataframe tbody tr th:only-of-type {\n",
       "        vertical-align: middle;\n",
       "    }\n",
       "\n",
       "    .dataframe tbody tr th {\n",
       "        vertical-align: top;\n",
       "    }\n",
       "\n",
       "    .dataframe thead th {\n",
       "        text-align: right;\n",
       "    }\n",
       "</style>\n",
       "<table border=\"1\" class=\"dataframe\">\n",
       "  <thead>\n",
       "    <tr style=\"text-align: right;\">\n",
       "      <th></th>\n",
       "      <th>user_id</th>\n",
       "      <th>item_id</th>\n",
       "    </tr>\n",
       "  </thead>\n",
       "  <tbody>\n",
       "    <tr>\n",
       "      <th>0</th>\n",
       "      <td>3</td>\n",
       "      <td>[13865, 15297, 2954, 7829, 7310, 7571, 4495, 9...</td>\n",
       "    </tr>\n",
       "    <tr>\n",
       "      <th>1</th>\n",
       "      <td>11</td>\n",
       "      <td>[4151, 10440, 13865, 9728, 142, 3734, 4880, 99...</td>\n",
       "    </tr>\n",
       "    <tr>\n",
       "      <th>2</th>\n",
       "      <td>30</td>\n",
       "      <td>[13865, 15486, 10440, 3734, 6444, 15297, 142, ...</td>\n",
       "    </tr>\n",
       "    <tr>\n",
       "      <th>3</th>\n",
       "      <td>46</td>\n",
       "      <td>[15297, 13865, 9728, 4151, 9996, 3734, 12192, ...</td>\n",
       "    </tr>\n",
       "    <tr>\n",
       "      <th>4</th>\n",
       "      <td>47</td>\n",
       "      <td>[9728, 512, 7102, 7829, 10440, 7793, 12995, 37...</td>\n",
       "    </tr>\n",
       "  </tbody>\n",
       "</table>\n",
       "</div>"
      ],
      "text/plain": [
       "   user_id                                            item_id\n",
       "0        3  [13865, 15297, 2954, 7829, 7310, 7571, 4495, 9...\n",
       "1       11  [4151, 10440, 13865, 9728, 142, 3734, 4880, 99...\n",
       "2       30  [13865, 15486, 10440, 3734, 6444, 15297, 142, ...\n",
       "3       46  [15297, 13865, 9728, 4151, 9996, 3734, 12192, ...\n",
       "4       47  [9728, 512, 7102, 7829, 10440, 7793, 12995, 37..."
      ]
     },
     "execution_count": 25,
     "metadata": {},
     "output_type": "execute_result"
    }
   ],
   "source": [
    "recs_hot.head()"
   ]
  },
  {
   "cell_type": "markdown",
   "id": "605d5f89",
   "metadata": {},
   "source": [
    "### Сделаем кросс-валидацию по времени "
   ]
  },
  {
   "cell_type": "code",
   "execution_count": 26,
   "id": "f482152f",
   "metadata": {
    "ExecuteTime": {
     "end_time": "2022-02-11T08:38:01.467562Z",
     "start_time": "2022-02-11T08:37:06.714480Z"
    }
   },
   "outputs": [],
   "source": [
    "validation_results = pd.DataFrame()\n",
    "last_n_days = 21 \n",
    "cols_soc_dem = ['age', 'sex']\n",
    "top_N = 10\n",
    "\n",
    "for train_idx, test_idx, info in folds_with_stats:\n",
    "    train = interactions_df.loc[train_idx]\n",
    "    test = interactions_df.loc[test_idx]\n",
    "    \n",
    "    date_window = train['last_watch_dt'].max() - pd.DateOffset(days=last_n_days)\n",
    "    train_slice = pd.merge(train[train['last_watch_dt'] >= date_window], users_df, on='user_id', how='left')\n",
    "    train_slice = fillna_cols(train_slice)\n",
    "    \n",
    "    soc_dem_recommendations = train_slice.groupby(cols_soc_dem + ['item_id']).size().to_frame().reset_index().rename(columns = {0 : 'count_pop'})\n",
    "    top_soc_dem = soc_dem_recommendations.groupby(cols_soc_dem).apply(lambda x: x.sort_values('count_pop', ascending=False).item_id.values[:top_N]).reset_index().rename(columns = {0 : 'item_id'})\n",
    "    \n",
    "    recs = pd.DataFrame({'user_id': test['user_id'].unique()})\n",
    "    recs = pd.merge(recs[['user_id']], users_df, on='user_id', how='left')\n",
    "    recs = fillna_cols(recs)\n",
    "    \n",
    "    recs = pd.merge(recs, top_soc_dem, on = cols_soc_dem, how = 'left')\n",
    "    recs = recs.drop(columns =cols_soc_dem)\n",
    "    recs = recs.explode('item_id')\n",
    "    recs['rank'] = recs.groupby('user_id').cumcount() + 1\n",
    "    \n",
    "    fold_result = compute_metrics(train, test, recs, top_N)\n",
    "    validation_results = validation_results.append(fold_result, ignore_index=True)"
   ]
  },
  {
   "cell_type": "code",
   "execution_count": 27,
   "id": "acdc509c",
   "metadata": {
    "ExecuteTime": {
     "end_time": "2022-02-11T08:38:01.473218Z",
     "start_time": "2022-02-11T08:38:01.469022Z"
    }
   },
   "outputs": [
    {
     "data": {
      "text/plain": [
       "MAP@10    0.073409\n",
       "dtype: float64"
      ]
     },
     "execution_count": 27,
     "metadata": {},
     "output_type": "execute_result"
    }
   ],
   "source": [
    "validation_results.agg({'MAP@10':'mean'})"
   ]
  },
  {
   "cell_type": "code",
   "execution_count": null,
   "id": "adb5e6f1",
   "metadata": {},
   "outputs": [],
   "source": []
  },
  {
   "cell_type": "code",
   "execution_count": 28,
   "id": "e87121f0",
   "metadata": {
    "ExecuteTime": {
     "end_time": "2022-02-11T08:38:01.605717Z",
     "start_time": "2022-02-11T08:38:01.474191Z"
    }
   },
   "outputs": [],
   "source": [
    "submission = pd.read_csv('sample_submission.csv')"
   ]
  },
  {
   "cell_type": "markdown",
   "id": "65d65461",
   "metadata": {},
   "source": [
    "### Вычислим \"холодных\" по нашему определению пользователей"
   ]
  },
  {
   "cell_type": "code",
   "execution_count": 29,
   "id": "b5f4f1b9",
   "metadata": {
    "ExecuteTime": {
     "end_time": "2022-02-11T08:38:01.682858Z",
     "start_time": "2022-02-11T08:38:01.607357Z"
    }
   },
   "outputs": [],
   "source": [
    "test_cold = submission.merge(test_hot, on = 'user_id', how = 'left')\n",
    "test_cold = test_cold[test_cold['item_id_y'].isnull()]\n",
    "test_cold = test_cold.rename(columns = {'item_id_x' : 'item_id'})[['user_id', 'item_id']]"
   ]
  },
  {
   "cell_type": "code",
   "execution_count": 30,
   "id": "585604da",
   "metadata": {
    "ExecuteTime": {
     "end_time": "2022-02-11T08:38:01.688996Z",
     "start_time": "2022-02-11T08:38:01.684054Z"
    }
   },
   "outputs": [
    {
     "data": {
      "text/html": [
       "<div>\n",
       "<style scoped>\n",
       "    .dataframe tbody tr th:only-of-type {\n",
       "        vertical-align: middle;\n",
       "    }\n",
       "\n",
       "    .dataframe tbody tr th {\n",
       "        vertical-align: top;\n",
       "    }\n",
       "\n",
       "    .dataframe thead th {\n",
       "        text-align: right;\n",
       "    }\n",
       "</style>\n",
       "<table border=\"1\" class=\"dataframe\">\n",
       "  <thead>\n",
       "    <tr style=\"text-align: right;\">\n",
       "      <th></th>\n",
       "      <th>user_id</th>\n",
       "      <th>item_id</th>\n",
       "    </tr>\n",
       "  </thead>\n",
       "  <tbody>\n",
       "    <tr>\n",
       "      <th>2</th>\n",
       "      <td>29</td>\n",
       "      <td>[9728, 15297, 10440, 14488, 13865, 12192, 341,...</td>\n",
       "    </tr>\n",
       "    <tr>\n",
       "      <th>4</th>\n",
       "      <td>33</td>\n",
       "      <td>[9728, 15297, 10440, 14488, 13865, 12192, 341,...</td>\n",
       "    </tr>\n",
       "    <tr>\n",
       "      <th>5</th>\n",
       "      <td>39</td>\n",
       "      <td>[9728, 15297, 10440, 14488, 13865, 12192, 341,...</td>\n",
       "    </tr>\n",
       "    <tr>\n",
       "      <th>10</th>\n",
       "      <td>66</td>\n",
       "      <td>[9728, 15297, 10440, 14488, 13865, 12192, 341,...</td>\n",
       "    </tr>\n",
       "    <tr>\n",
       "      <th>11</th>\n",
       "      <td>70</td>\n",
       "      <td>[9728, 15297, 10440, 14488, 13865, 12192, 341,...</td>\n",
       "    </tr>\n",
       "  </tbody>\n",
       "</table>\n",
       "</div>"
      ],
      "text/plain": [
       "    user_id                                            item_id\n",
       "2        29  [9728, 15297, 10440, 14488, 13865, 12192, 341,...\n",
       "4        33  [9728, 15297, 10440, 14488, 13865, 12192, 341,...\n",
       "5        39  [9728, 15297, 10440, 14488, 13865, 12192, 341,...\n",
       "10       66  [9728, 15297, 10440, 14488, 13865, 12192, 341,...\n",
       "11       70  [9728, 15297, 10440, 14488, 13865, 12192, 341,..."
      ]
     },
     "execution_count": 30,
     "metadata": {},
     "output_type": "execute_result"
    }
   ],
   "source": [
    "test_cold.head()"
   ]
  },
  {
   "cell_type": "markdown",
   "id": "34e848af",
   "metadata": {},
   "source": [
    "### Возьмем за последние 21 день популярные по соц дему айтемы"
   ]
  },
  {
   "cell_type": "code",
   "execution_count": 31,
   "id": "298bcfc6",
   "metadata": {
    "ExecuteTime": {
     "end_time": "2022-02-11T08:38:02.210752Z",
     "start_time": "2022-02-11T08:38:01.689974Z"
    }
   },
   "outputs": [],
   "source": [
    "last_n_days = 21 \n",
    "train = interactions_df\n",
    "date_window = train['last_watch_dt'].max() - pd.DateOffset(days=last_n_days)\n",
    "train_slice = pd.merge(train[train['last_watch_dt'] >= date_window], users_df, on='user_id', how='left')"
   ]
  },
  {
   "cell_type": "code",
   "execution_count": 32,
   "id": "72c37eb4",
   "metadata": {
    "ExecuteTime": {
     "end_time": "2022-02-11T08:38:02.569207Z",
     "start_time": "2022-02-11T08:38:02.212051Z"
    }
   },
   "outputs": [],
   "source": [
    "train_slice = fillna_cols(train_slice)"
   ]
  },
  {
   "cell_type": "code",
   "execution_count": 33,
   "id": "1c5699e8",
   "metadata": {
    "ExecuteTime": {
     "end_time": "2022-02-11T08:38:02.579327Z",
     "start_time": "2022-02-11T08:38:02.570421Z"
    }
   },
   "outputs": [
    {
     "data": {
      "text/html": [
       "<div>\n",
       "<style scoped>\n",
       "    .dataframe tbody tr th:only-of-type {\n",
       "        vertical-align: middle;\n",
       "    }\n",
       "\n",
       "    .dataframe tbody tr th {\n",
       "        vertical-align: top;\n",
       "    }\n",
       "\n",
       "    .dataframe thead th {\n",
       "        text-align: right;\n",
       "    }\n",
       "</style>\n",
       "<table border=\"1\" class=\"dataframe\">\n",
       "  <thead>\n",
       "    <tr style=\"text-align: right;\">\n",
       "      <th></th>\n",
       "      <th>user_id</th>\n",
       "      <th>item_id</th>\n",
       "      <th>last_watch_dt</th>\n",
       "      <th>total_dur</th>\n",
       "      <th>watched_pct</th>\n",
       "      <th>date_weight</th>\n",
       "      <th>age</th>\n",
       "      <th>income</th>\n",
       "      <th>sex</th>\n",
       "      <th>kids_flg</th>\n",
       "    </tr>\n",
       "  </thead>\n",
       "  <tbody>\n",
       "    <tr>\n",
       "      <th>0</th>\n",
       "      <td>1016458</td>\n",
       "      <td>354</td>\n",
       "      <td>2021-08-14</td>\n",
       "      <td>1672</td>\n",
       "      <td>25</td>\n",
       "      <td>0.111111</td>\n",
       "      <td>age_18_24</td>\n",
       "      <td>income_20_40</td>\n",
       "      <td>M</td>\n",
       "      <td>True</td>\n",
       "    </tr>\n",
       "    <tr>\n",
       "      <th>1</th>\n",
       "      <td>884009</td>\n",
       "      <td>693</td>\n",
       "      <td>2021-08-04</td>\n",
       "      <td>703</td>\n",
       "      <td>14</td>\n",
       "      <td>0.052632</td>\n",
       "      <td>age_18_24</td>\n",
       "      <td>income_40_60</td>\n",
       "      <td>F</td>\n",
       "      <td>False</td>\n",
       "    </tr>\n",
       "    <tr>\n",
       "      <th>2</th>\n",
       "      <td>203219</td>\n",
       "      <td>13582</td>\n",
       "      <td>2021-08-22</td>\n",
       "      <td>6975</td>\n",
       "      <td>100</td>\n",
       "      <td>1.000000</td>\n",
       "      <td>age_unknown</td>\n",
       "      <td>income_unknown</td>\n",
       "      <td>sex_unknown</td>\n",
       "      <td>False</td>\n",
       "    </tr>\n",
       "    <tr>\n",
       "      <th>3</th>\n",
       "      <td>602509</td>\n",
       "      <td>496</td>\n",
       "      <td>2021-08-06</td>\n",
       "      <td>10421</td>\n",
       "      <td>1</td>\n",
       "      <td>0.058824</td>\n",
       "      <td>age_unknown</td>\n",
       "      <td>income_unknown</td>\n",
       "      <td>sex_unknown</td>\n",
       "      <td>False</td>\n",
       "    </tr>\n",
       "    <tr>\n",
       "      <th>4</th>\n",
       "      <td>215229</td>\n",
       "      <td>7793</td>\n",
       "      <td>2021-08-01</td>\n",
       "      <td>873</td>\n",
       "      <td>14</td>\n",
       "      <td>0.045455</td>\n",
       "      <td>age_35_44</td>\n",
       "      <td>income_20_40</td>\n",
       "      <td>F</td>\n",
       "      <td>True</td>\n",
       "    </tr>\n",
       "  </tbody>\n",
       "</table>\n",
       "</div>"
      ],
      "text/plain": [
       "   user_id  item_id last_watch_dt  total_dur  watched_pct  date_weight  \\\n",
       "0  1016458      354    2021-08-14       1672           25     0.111111   \n",
       "1   884009      693    2021-08-04        703           14     0.052632   \n",
       "2   203219    13582    2021-08-22       6975          100     1.000000   \n",
       "3   602509      496    2021-08-06      10421            1     0.058824   \n",
       "4   215229     7793    2021-08-01        873           14     0.045455   \n",
       "\n",
       "           age          income          sex  kids_flg  \n",
       "0    age_18_24    income_20_40            M      True  \n",
       "1    age_18_24    income_40_60            F     False  \n",
       "2  age_unknown  income_unknown  sex_unknown     False  \n",
       "3  age_unknown  income_unknown  sex_unknown     False  \n",
       "4    age_35_44    income_20_40            F      True  "
      ]
     },
     "execution_count": 33,
     "metadata": {},
     "output_type": "execute_result"
    }
   ],
   "source": [
    "train_slice.head()"
   ]
  },
  {
   "cell_type": "markdown",
   "id": "fa5b523e",
   "metadata": {},
   "source": [
    "### Посчитаем топ популярных айтемов за этот период для всех комбинаций age и sex"
   ]
  },
  {
   "cell_type": "code",
   "execution_count": 34,
   "id": "2a55811f",
   "metadata": {
    "ExecuteTime": {
     "end_time": "2022-02-11T08:38:02.582094Z",
     "start_time": "2022-02-11T08:38:02.580329Z"
    }
   },
   "outputs": [],
   "source": [
    "cols_soc_dem = ['age', 'sex']"
   ]
  },
  {
   "cell_type": "code",
   "execution_count": 35,
   "id": "7ec9678d",
   "metadata": {
    "ExecuteTime": {
     "end_time": "2022-02-11T08:38:02.774904Z",
     "start_time": "2022-02-11T08:38:02.584157Z"
    }
   },
   "outputs": [
    {
     "data": {
      "text/html": [
       "<div>\n",
       "<style scoped>\n",
       "    .dataframe tbody tr th:only-of-type {\n",
       "        vertical-align: middle;\n",
       "    }\n",
       "\n",
       "    .dataframe tbody tr th {\n",
       "        vertical-align: top;\n",
       "    }\n",
       "\n",
       "    .dataframe thead th {\n",
       "        text-align: right;\n",
       "    }\n",
       "</style>\n",
       "<table border=\"1\" class=\"dataframe\">\n",
       "  <thead>\n",
       "    <tr style=\"text-align: right;\">\n",
       "      <th></th>\n",
       "      <th>age</th>\n",
       "      <th>sex</th>\n",
       "      <th>item_id</th>\n",
       "    </tr>\n",
       "  </thead>\n",
       "  <tbody>\n",
       "    <tr>\n",
       "      <th>0</th>\n",
       "      <td>age_18_24</td>\n",
       "      <td>F</td>\n",
       "      <td>[9728, 15297, 10440, 4151, 3734, 7793, 12192, ...</td>\n",
       "    </tr>\n",
       "    <tr>\n",
       "      <th>1</th>\n",
       "      <td>age_18_24</td>\n",
       "      <td>M</td>\n",
       "      <td>[9728, 10440, 7793, 15297, 13865, 3734, 4151, ...</td>\n",
       "    </tr>\n",
       "    <tr>\n",
       "      <th>2</th>\n",
       "      <td>age_18_24</td>\n",
       "      <td>sex_unknown</td>\n",
       "      <td>[9728, 10440, 15297, 4151, 13865, 12192, 3734,...</td>\n",
       "    </tr>\n",
       "    <tr>\n",
       "      <th>3</th>\n",
       "      <td>age_25_34</td>\n",
       "      <td>F</td>\n",
       "      <td>[15297, 10440, 9728, 4151, 3734, 12192, 13865,...</td>\n",
       "    </tr>\n",
       "    <tr>\n",
       "      <th>4</th>\n",
       "      <td>age_25_34</td>\n",
       "      <td>M</td>\n",
       "      <td>[9728, 10440, 15297, 7793, 13865, 3734, 12192,...</td>\n",
       "    </tr>\n",
       "  </tbody>\n",
       "</table>\n",
       "</div>"
      ],
      "text/plain": [
       "         age          sex                                            item_id\n",
       "0  age_18_24            F  [9728, 15297, 10440, 4151, 3734, 7793, 12192, ...\n",
       "1  age_18_24            M  [9728, 10440, 7793, 15297, 13865, 3734, 4151, ...\n",
       "2  age_18_24  sex_unknown  [9728, 10440, 15297, 4151, 13865, 12192, 3734,...\n",
       "3  age_25_34            F  [15297, 10440, 9728, 4151, 3734, 12192, 13865,...\n",
       "4  age_25_34            M  [9728, 10440, 15297, 7793, 13865, 3734, 12192,..."
      ]
     },
     "execution_count": 35,
     "metadata": {},
     "output_type": "execute_result"
    }
   ],
   "source": [
    "soc_dem_recommendations = train_slice.groupby(cols_soc_dem + ['item_id']).size().to_frame().reset_index().rename(columns = {0 : 'count_pop'})\n",
    "top_soc_dem = soc_dem_recommendations.groupby(cols_soc_dem).apply(lambda x: x.sort_values('count_pop', ascending=False).item_id.values[:top_N]).reset_index().rename(columns = {0 : 'item_id'})\n",
    "top_soc_dem.head()"
   ]
  },
  {
   "cell_type": "code",
   "execution_count": 36,
   "id": "f635bf87",
   "metadata": {
    "ExecuteTime": {
     "end_time": "2022-02-11T08:38:02.960690Z",
     "start_time": "2022-02-11T08:38:02.775969Z"
    }
   },
   "outputs": [],
   "source": [
    "recs_cold = pd.DataFrame({'user_id': test_cold['user_id'].unique()})\n",
    "recs_cold = pd.merge(recs_cold[['user_id']], users_df, on='user_id', how='left')\n",
    "recs_cold = fillna_cols(recs_cold)"
   ]
  },
  {
   "cell_type": "code",
   "execution_count": 37,
   "id": "6b854207",
   "metadata": {
    "ExecuteTime": {
     "end_time": "2022-02-11T08:38:02.968142Z",
     "start_time": "2022-02-11T08:38:02.961932Z"
    }
   },
   "outputs": [
    {
     "data": {
      "text/html": [
       "<div>\n",
       "<style scoped>\n",
       "    .dataframe tbody tr th:only-of-type {\n",
       "        vertical-align: middle;\n",
       "    }\n",
       "\n",
       "    .dataframe tbody tr th {\n",
       "        vertical-align: top;\n",
       "    }\n",
       "\n",
       "    .dataframe thead th {\n",
       "        text-align: right;\n",
       "    }\n",
       "</style>\n",
       "<table border=\"1\" class=\"dataframe\">\n",
       "  <thead>\n",
       "    <tr style=\"text-align: right;\">\n",
       "      <th></th>\n",
       "      <th>user_id</th>\n",
       "      <th>age</th>\n",
       "      <th>income</th>\n",
       "      <th>sex</th>\n",
       "      <th>kids_flg</th>\n",
       "    </tr>\n",
       "  </thead>\n",
       "  <tbody>\n",
       "    <tr>\n",
       "      <th>0</th>\n",
       "      <td>29</td>\n",
       "      <td>age_unknown</td>\n",
       "      <td>income_unknown</td>\n",
       "      <td>sex_unknown</td>\n",
       "      <td>False</td>\n",
       "    </tr>\n",
       "    <tr>\n",
       "      <th>1</th>\n",
       "      <td>33</td>\n",
       "      <td>age_unknown</td>\n",
       "      <td>income_unknown</td>\n",
       "      <td>sex_unknown</td>\n",
       "      <td>False</td>\n",
       "    </tr>\n",
       "    <tr>\n",
       "      <th>2</th>\n",
       "      <td>39</td>\n",
       "      <td>age_unknown</td>\n",
       "      <td>income_unknown</td>\n",
       "      <td>sex_unknown</td>\n",
       "      <td>False</td>\n",
       "    </tr>\n",
       "    <tr>\n",
       "      <th>3</th>\n",
       "      <td>66</td>\n",
       "      <td>age_35_44</td>\n",
       "      <td>income_40_60</td>\n",
       "      <td>M</td>\n",
       "      <td>False</td>\n",
       "    </tr>\n",
       "    <tr>\n",
       "      <th>4</th>\n",
       "      <td>70</td>\n",
       "      <td>age_18_24</td>\n",
       "      <td>income_unknown</td>\n",
       "      <td>F</td>\n",
       "      <td>False</td>\n",
       "    </tr>\n",
       "  </tbody>\n",
       "</table>\n",
       "</div>"
      ],
      "text/plain": [
       "   user_id          age          income          sex  kids_flg\n",
       "0       29  age_unknown  income_unknown  sex_unknown     False\n",
       "1       33  age_unknown  income_unknown  sex_unknown     False\n",
       "2       39  age_unknown  income_unknown  sex_unknown     False\n",
       "3       66    age_35_44    income_40_60            M     False\n",
       "4       70    age_18_24  income_unknown            F     False"
      ]
     },
     "execution_count": 37,
     "metadata": {},
     "output_type": "execute_result"
    }
   ],
   "source": [
    "recs_cold.head()"
   ]
  },
  {
   "cell_type": "code",
   "execution_count": 38,
   "id": "42b7ebd0",
   "metadata": {
    "ExecuteTime": {
     "end_time": "2022-02-11T08:38:02.975357Z",
     "start_time": "2022-02-11T08:38:02.969198Z"
    }
   },
   "outputs": [
    {
     "data": {
      "text/html": [
       "<div>\n",
       "<style scoped>\n",
       "    .dataframe tbody tr th:only-of-type {\n",
       "        vertical-align: middle;\n",
       "    }\n",
       "\n",
       "    .dataframe tbody tr th {\n",
       "        vertical-align: top;\n",
       "    }\n",
       "\n",
       "    .dataframe thead th {\n",
       "        text-align: right;\n",
       "    }\n",
       "</style>\n",
       "<table border=\"1\" class=\"dataframe\">\n",
       "  <thead>\n",
       "    <tr style=\"text-align: right;\">\n",
       "      <th></th>\n",
       "      <th>age</th>\n",
       "      <th>sex</th>\n",
       "      <th>item_id</th>\n",
       "    </tr>\n",
       "  </thead>\n",
       "  <tbody>\n",
       "    <tr>\n",
       "      <th>0</th>\n",
       "      <td>age_18_24</td>\n",
       "      <td>F</td>\n",
       "      <td>[9728, 15297, 10440, 4151, 3734, 7793, 12192, ...</td>\n",
       "    </tr>\n",
       "    <tr>\n",
       "      <th>1</th>\n",
       "      <td>age_18_24</td>\n",
       "      <td>M</td>\n",
       "      <td>[9728, 10440, 7793, 15297, 13865, 3734, 4151, ...</td>\n",
       "    </tr>\n",
       "    <tr>\n",
       "      <th>2</th>\n",
       "      <td>age_18_24</td>\n",
       "      <td>sex_unknown</td>\n",
       "      <td>[9728, 10440, 15297, 4151, 13865, 12192, 3734,...</td>\n",
       "    </tr>\n",
       "    <tr>\n",
       "      <th>3</th>\n",
       "      <td>age_25_34</td>\n",
       "      <td>F</td>\n",
       "      <td>[15297, 10440, 9728, 4151, 3734, 12192, 13865,...</td>\n",
       "    </tr>\n",
       "    <tr>\n",
       "      <th>4</th>\n",
       "      <td>age_25_34</td>\n",
       "      <td>M</td>\n",
       "      <td>[9728, 10440, 15297, 7793, 13865, 3734, 12192,...</td>\n",
       "    </tr>\n",
       "  </tbody>\n",
       "</table>\n",
       "</div>"
      ],
      "text/plain": [
       "         age          sex                                            item_id\n",
       "0  age_18_24            F  [9728, 15297, 10440, 4151, 3734, 7793, 12192, ...\n",
       "1  age_18_24            M  [9728, 10440, 7793, 15297, 13865, 3734, 4151, ...\n",
       "2  age_18_24  sex_unknown  [9728, 10440, 15297, 4151, 13865, 12192, 3734,...\n",
       "3  age_25_34            F  [15297, 10440, 9728, 4151, 3734, 12192, 13865,...\n",
       "4  age_25_34            M  [9728, 10440, 15297, 7793, 13865, 3734, 12192,..."
      ]
     },
     "execution_count": 38,
     "metadata": {},
     "output_type": "execute_result"
    }
   ],
   "source": [
    "top_soc_dem.head()"
   ]
  },
  {
   "cell_type": "code",
   "execution_count": 39,
   "id": "6d73c1ae",
   "metadata": {
    "ExecuteTime": {
     "end_time": "2022-02-11T08:38:02.997028Z",
     "start_time": "2022-02-11T08:38:02.976273Z"
    }
   },
   "outputs": [],
   "source": [
    "recs_cold = pd.merge(recs_cold, top_soc_dem, on = cols_soc_dem, how = 'left')\n",
    "recs_cold = recs_cold.drop(columns = ['income', 'kids_flg', 'age', 'sex'])"
   ]
  },
  {
   "cell_type": "code",
   "execution_count": 40,
   "id": "49fe30a5",
   "metadata": {
    "ExecuteTime": {
     "end_time": "2022-02-11T08:38:03.003701Z",
     "start_time": "2022-02-11T08:38:02.998151Z"
    }
   },
   "outputs": [
    {
     "data": {
      "text/html": [
       "<div>\n",
       "<style scoped>\n",
       "    .dataframe tbody tr th:only-of-type {\n",
       "        vertical-align: middle;\n",
       "    }\n",
       "\n",
       "    .dataframe tbody tr th {\n",
       "        vertical-align: top;\n",
       "    }\n",
       "\n",
       "    .dataframe thead th {\n",
       "        text-align: right;\n",
       "    }\n",
       "</style>\n",
       "<table border=\"1\" class=\"dataframe\">\n",
       "  <thead>\n",
       "    <tr style=\"text-align: right;\">\n",
       "      <th></th>\n",
       "      <th>user_id</th>\n",
       "      <th>item_id</th>\n",
       "    </tr>\n",
       "  </thead>\n",
       "  <tbody>\n",
       "    <tr>\n",
       "      <th>0</th>\n",
       "      <td>29</td>\n",
       "      <td>[10440, 15297, 9728, 4151, 12192, 13865, 2657,...</td>\n",
       "    </tr>\n",
       "    <tr>\n",
       "      <th>1</th>\n",
       "      <td>33</td>\n",
       "      <td>[10440, 15297, 9728, 4151, 12192, 13865, 2657,...</td>\n",
       "    </tr>\n",
       "    <tr>\n",
       "      <th>2</th>\n",
       "      <td>39</td>\n",
       "      <td>[10440, 15297, 9728, 4151, 12192, 13865, 2657,...</td>\n",
       "    </tr>\n",
       "    <tr>\n",
       "      <th>3</th>\n",
       "      <td>66</td>\n",
       "      <td>[9728, 10440, 15297, 13865, 7793, 12192, 11863...</td>\n",
       "    </tr>\n",
       "    <tr>\n",
       "      <th>4</th>\n",
       "      <td>70</td>\n",
       "      <td>[9728, 15297, 10440, 4151, 3734, 7793, 12192, ...</td>\n",
       "    </tr>\n",
       "  </tbody>\n",
       "</table>\n",
       "</div>"
      ],
      "text/plain": [
       "   user_id                                            item_id\n",
       "0       29  [10440, 15297, 9728, 4151, 12192, 13865, 2657,...\n",
       "1       33  [10440, 15297, 9728, 4151, 12192, 13865, 2657,...\n",
       "2       39  [10440, 15297, 9728, 4151, 12192, 13865, 2657,...\n",
       "3       66  [9728, 10440, 15297, 13865, 7793, 12192, 11863...\n",
       "4       70  [9728, 15297, 10440, 4151, 3734, 7793, 12192, ..."
      ]
     },
     "execution_count": 40,
     "metadata": {},
     "output_type": "execute_result"
    }
   ],
   "source": [
    "recs_cold.head()"
   ]
  },
  {
   "cell_type": "code",
   "execution_count": 41,
   "id": "eb73b418",
   "metadata": {
    "ExecuteTime": {
     "end_time": "2022-02-11T08:38:09.384106Z",
     "start_time": "2022-02-11T08:38:03.004843Z"
    }
   },
   "outputs": [],
   "source": [
    "recs_cold = recs_cold.explode('item_id')\n",
    "recs_cold['rank'] = recs_cold.groupby('user_id').cumcount() + 1\n",
    "recs_cold = recs_cold.groupby('user_id').agg({'item_id': list}).reset_index()"
   ]
  },
  {
   "cell_type": "code",
   "execution_count": 42,
   "id": "fa79ccb0",
   "metadata": {
    "ExecuteTime": {
     "end_time": "2022-02-11T08:38:09.392443Z",
     "start_time": "2022-02-11T08:38:09.385619Z"
    }
   },
   "outputs": [
    {
     "data": {
      "text/html": [
       "<div>\n",
       "<style scoped>\n",
       "    .dataframe tbody tr th:only-of-type {\n",
       "        vertical-align: middle;\n",
       "    }\n",
       "\n",
       "    .dataframe tbody tr th {\n",
       "        vertical-align: top;\n",
       "    }\n",
       "\n",
       "    .dataframe thead th {\n",
       "        text-align: right;\n",
       "    }\n",
       "</style>\n",
       "<table border=\"1\" class=\"dataframe\">\n",
       "  <thead>\n",
       "    <tr style=\"text-align: right;\">\n",
       "      <th></th>\n",
       "      <th>user_id</th>\n",
       "      <th>item_id</th>\n",
       "    </tr>\n",
       "  </thead>\n",
       "  <tbody>\n",
       "    <tr>\n",
       "      <th>0</th>\n",
       "      <td>29</td>\n",
       "      <td>[10440, 15297, 9728, 4151, 12192, 13865, 2657,...</td>\n",
       "    </tr>\n",
       "    <tr>\n",
       "      <th>1</th>\n",
       "      <td>33</td>\n",
       "      <td>[10440, 15297, 9728, 4151, 12192, 13865, 2657,...</td>\n",
       "    </tr>\n",
       "    <tr>\n",
       "      <th>2</th>\n",
       "      <td>39</td>\n",
       "      <td>[10440, 15297, 9728, 4151, 12192, 13865, 2657,...</td>\n",
       "    </tr>\n",
       "    <tr>\n",
       "      <th>3</th>\n",
       "      <td>66</td>\n",
       "      <td>[9728, 10440, 15297, 13865, 7793, 12192, 11863...</td>\n",
       "    </tr>\n",
       "    <tr>\n",
       "      <th>4</th>\n",
       "      <td>70</td>\n",
       "      <td>[9728, 15297, 10440, 4151, 3734, 7793, 12192, ...</td>\n",
       "    </tr>\n",
       "  </tbody>\n",
       "</table>\n",
       "</div>"
      ],
      "text/plain": [
       "   user_id                                            item_id\n",
       "0       29  [10440, 15297, 9728, 4151, 12192, 13865, 2657,...\n",
       "1       33  [10440, 15297, 9728, 4151, 12192, 13865, 2657,...\n",
       "2       39  [10440, 15297, 9728, 4151, 12192, 13865, 2657,...\n",
       "3       66  [9728, 10440, 15297, 13865, 7793, 12192, 11863...\n",
       "4       70  [9728, 15297, 10440, 4151, 3734, 7793, 12192, ..."
      ]
     },
     "execution_count": 42,
     "metadata": {},
     "output_type": "execute_result"
    }
   ],
   "source": [
    "recs_cold.head()"
   ]
  },
  {
   "cell_type": "code",
   "execution_count": 43,
   "id": "6c1d4234",
   "metadata": {
    "ExecuteTime": {
     "end_time": "2022-02-11T08:38:09.395992Z",
     "start_time": "2022-02-11T08:38:09.393480Z"
    }
   },
   "outputs": [
    {
     "data": {
      "text/plain": [
       "(95937, 2)"
      ]
     },
     "execution_count": 43,
     "metadata": {},
     "output_type": "execute_result"
    }
   ],
   "source": [
    "recs_cold.shape"
   ]
  },
  {
   "cell_type": "markdown",
   "id": "1b90e8ce",
   "metadata": {},
   "source": [
    "### Обьединим рекомендации "
   ]
  },
  {
   "cell_type": "code",
   "execution_count": 44,
   "id": "18dcaff4",
   "metadata": {
    "ExecuteTime": {
     "end_time": "2022-02-11T08:38:09.402940Z",
     "start_time": "2022-02-11T08:38:09.396916Z"
    }
   },
   "outputs": [],
   "source": [
    "recs_union = pd.concat([recs_hot, recs_cold], axis = 0)"
   ]
  },
  {
   "cell_type": "code",
   "execution_count": 45,
   "id": "cbc4f638",
   "metadata": {
    "ExecuteTime": {
     "end_time": "2022-02-11T08:38:09.422765Z",
     "start_time": "2022-02-11T08:38:09.403857Z"
    }
   },
   "outputs": [],
   "source": [
    "recs_union = recs_union.sort_values('user_id')\n",
    "recs_union = recs_union.reset_index(drop = True)"
   ]
  },
  {
   "cell_type": "code",
   "execution_count": 46,
   "id": "a0f1ac23",
   "metadata": {
    "ExecuteTime": {
     "end_time": "2022-02-11T08:38:09.430741Z",
     "start_time": "2022-02-11T08:38:09.423923Z"
    }
   },
   "outputs": [
    {
     "data": {
      "text/html": [
       "<div>\n",
       "<style scoped>\n",
       "    .dataframe tbody tr th:only-of-type {\n",
       "        vertical-align: middle;\n",
       "    }\n",
       "\n",
       "    .dataframe tbody tr th {\n",
       "        vertical-align: top;\n",
       "    }\n",
       "\n",
       "    .dataframe thead th {\n",
       "        text-align: right;\n",
       "    }\n",
       "</style>\n",
       "<table border=\"1\" class=\"dataframe\">\n",
       "  <thead>\n",
       "    <tr style=\"text-align: right;\">\n",
       "      <th></th>\n",
       "      <th>user_id</th>\n",
       "      <th>item_id</th>\n",
       "    </tr>\n",
       "  </thead>\n",
       "  <tbody>\n",
       "    <tr>\n",
       "      <th>0</th>\n",
       "      <td>3</td>\n",
       "      <td>[13865, 15297, 2954, 7829, 7310, 7571, 4495, 9...</td>\n",
       "    </tr>\n",
       "    <tr>\n",
       "      <th>1</th>\n",
       "      <td>11</td>\n",
       "      <td>[4151, 10440, 13865, 9728, 142, 3734, 4880, 99...</td>\n",
       "    </tr>\n",
       "    <tr>\n",
       "      <th>2</th>\n",
       "      <td>29</td>\n",
       "      <td>[10440, 15297, 9728, 4151, 12192, 13865, 2657,...</td>\n",
       "    </tr>\n",
       "    <tr>\n",
       "      <th>3</th>\n",
       "      <td>30</td>\n",
       "      <td>[13865, 15486, 10440, 3734, 6444, 15297, 142, ...</td>\n",
       "    </tr>\n",
       "    <tr>\n",
       "      <th>4</th>\n",
       "      <td>33</td>\n",
       "      <td>[10440, 15297, 9728, 4151, 12192, 13865, 2657,...</td>\n",
       "    </tr>\n",
       "  </tbody>\n",
       "</table>\n",
       "</div>"
      ],
      "text/plain": [
       "   user_id                                            item_id\n",
       "0        3  [13865, 15297, 2954, 7829, 7310, 7571, 4495, 9...\n",
       "1       11  [4151, 10440, 13865, 9728, 142, 3734, 4880, 99...\n",
       "2       29  [10440, 15297, 9728, 4151, 12192, 13865, 2657,...\n",
       "3       30  [13865, 15486, 10440, 3734, 6444, 15297, 142, ...\n",
       "4       33  [10440, 15297, 9728, 4151, 12192, 13865, 2657,..."
      ]
     },
     "execution_count": 46,
     "metadata": {},
     "output_type": "execute_result"
    }
   ],
   "source": [
    "recs_union.head()"
   ]
  },
  {
   "cell_type": "code",
   "execution_count": null,
   "id": "c90b87f8",
   "metadata": {},
   "outputs": [],
   "source": []
  },
  {
   "cell_type": "markdown",
   "id": "38a074ce",
   "metadata": {},
   "source": [
    "### Сделаем проверки "
   ]
  },
  {
   "cell_type": "code",
   "execution_count": 47,
   "id": "5fd9e0c5",
   "metadata": {
    "ExecuteTime": {
     "end_time": "2022-02-11T08:38:09.435200Z",
     "start_time": "2022-02-11T08:38:09.431766Z"
    }
   },
   "outputs": [
    {
     "data": {
      "text/plain": [
       "(0, 2)"
      ]
     },
     "execution_count": 47,
     "metadata": {},
     "output_type": "execute_result"
    }
   ],
   "source": [
    "recs_union[recs_union['user_id'].isnull()].shape"
   ]
  },
  {
   "cell_type": "code",
   "execution_count": 48,
   "id": "433cd323",
   "metadata": {
    "ExecuteTime": {
     "end_time": "2022-02-11T08:38:09.444656Z",
     "start_time": "2022-02-11T08:38:09.436188Z"
    }
   },
   "outputs": [
    {
     "data": {
      "text/plain": [
       "(0, 2)"
      ]
     },
     "execution_count": 48,
     "metadata": {},
     "output_type": "execute_result"
    }
   ],
   "source": [
    "recs_union[recs_union['item_id'].isnull()].shape"
   ]
  },
  {
   "cell_type": "code",
   "execution_count": 49,
   "id": "60d5f373",
   "metadata": {
    "ExecuteTime": {
     "end_time": "2022-02-11T08:38:09.493436Z",
     "start_time": "2022-02-11T08:38:09.445520Z"
    }
   },
   "outputs": [],
   "source": [
    "recs_union['len'] = recs_union['item_id'].apply(lambda x: len(x))"
   ]
  },
  {
   "cell_type": "code",
   "execution_count": 50,
   "id": "6a4378c3",
   "metadata": {
    "ExecuteTime": {
     "end_time": "2022-02-11T08:38:09.499475Z",
     "start_time": "2022-02-11T08:38:09.494483Z"
    }
   },
   "outputs": [
    {
     "data": {
      "text/plain": [
       "(0, 3)"
      ]
     },
     "execution_count": 50,
     "metadata": {},
     "output_type": "execute_result"
    }
   ],
   "source": [
    "recs_union[recs_union['len'] > 10].shape"
   ]
  },
  {
   "cell_type": "markdown",
   "id": "7d0edf18",
   "metadata": {},
   "source": [
    "### Посчитаем метрику на private и public"
   ]
  },
  {
   "cell_type": "code",
   "execution_count": null,
   "id": "6e2efa97",
   "metadata": {},
   "outputs": [],
   "source": [
    "target = pd.read_csv('final_test.csv')\n",
    "final = target.groupby(['user_id', 'type']).agg({'item_id': list}).reset_index() \n",
    "final['item_id'] = final['item_id'].astype(str)"
   ]
  },
  {
   "cell_type": "code",
   "execution_count": null,
   "id": "9ad32d07",
   "metadata": {
    "ExecuteTime": {
     "end_time": "2022-02-11T08:38:22.758179Z",
     "start_time": "2022-02-11T08:38:21.967025Z"
    }
   },
   "outputs": [],
   "source": [
    "recs_union['item_id'] = recs_union['item_id'].astype(str)"
   ]
  },
  {
   "cell_type": "code",
   "execution_count": null,
   "id": "453cad3f",
   "metadata": {
    "ExecuteTime": {
     "end_time": "2022-02-11T08:38:26.299566Z",
     "start_time": "2022-02-11T08:38:22.760820Z"
    }
   },
   "outputs": [],
   "source": [
    "compute_metric_leaderboard(final[final['type'] == 'private'] , recs_union)"
   ]
  },
  {
   "cell_type": "code",
   "execution_count": null,
   "id": "e546368c",
   "metadata": {
    "ExecuteTime": {
     "end_time": "2022-02-11T08:38:29.828737Z",
     "start_time": "2022-02-11T08:38:26.300640Z"
    }
   },
   "outputs": [],
   "source": [
    "compute_metric_leaderboard(final[final['type'] == 'public'] , recs_union)"
   ]
  },
  {
   "cell_type": "code",
   "execution_count": null,
   "id": "7e40b705",
   "metadata": {
    "ExecuteTime": {
     "end_time": "2022-02-11T08:38:30.311326Z",
     "start_time": "2022-02-11T08:38:29.829944Z"
    }
   },
   "outputs": [],
   "source": [
    "recs_union.drop(['len'], axis = 1).to_csv('recs_submission.csv', index=False)"
   ]
  },
  {
   "cell_type": "code",
   "execution_count": null,
   "id": "cefc9fd9",
   "metadata": {},
   "outputs": [],
   "source": []
  },
  {
   "cell_type": "code",
   "execution_count": null,
   "id": "9c463b07",
   "metadata": {},
   "outputs": [],
   "source": []
  }
 ],
 "metadata": {
  "kernelspec": {
   "display_name": "MTS ed",
   "language": "python",
   "name": "mts_ed_recsys"
  },
  "language_info": {
   "codemirror_mode": {
    "name": "ipython",
    "version": 3
   },
   "file_extension": ".py",
   "mimetype": "text/x-python",
   "name": "python",
   "nbconvert_exporter": "python",
   "pygments_lexer": "ipython3",
   "version": "3.8.2"
  }
 },
 "nbformat": 4,
 "nbformat_minor": 5
}
